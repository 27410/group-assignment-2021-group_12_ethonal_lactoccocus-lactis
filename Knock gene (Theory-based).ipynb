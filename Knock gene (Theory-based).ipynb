{
 "cells": [
  {
   "cell_type": "markdown",
   "metadata": {},
   "source": [
    "\n",
    "# 1. Write down the stoichiometry matrix S for the model as a numpy array.\n",
    "# The order of the rows should correspond to A, B and C.\n",
    "# The order of the columns should correspond to v1-v6\n",
    "# The reaction formulas are:\n",
    "# v1: 1 A -> 1 B\n",
    "# v2: 1 A -> 1 C\n",
    "# v3: 1 C -> \n",
    "# v4: 1 C ->\n",
    "# v5: 1 B ->\n",
    "# v6: 1 A -> \n",
    "\n",
    "# replace [[]] with the stoichiometric matrix.\n",
    "\n",
    "import numpy as np\n",
    "S = np.array([[ -1., -1., 0., 0., 0., 1.],\n",
    "              [ 1., 0., 0., 0., -1., 0. ],\n",
    "              [ 0., 1., -1., -1., 0., 0.]])\n",
    "\n",
    "from sympy import Equality, Matrix, symbols\n",
    "v = Matrix(symbols(\"v1:3\") + symbols(\"v3, v4, v5, v6\"))\n"
   ]
  },
  {
   "cell_type": "code",
   "execution_count": 71,
   "metadata": {},
   "outputs": [
    {
     "data": {
      "text/latex": [
       "$\\displaystyle \\left[\\begin{matrix}v_{1}\\\\v_{2}\\\\v_{3}\\\\v_{4}\\\\v_{5}\\\\v_{6}\\end{matrix}\\right]$"
      ],
      "text/plain": [
       "Matrix([\n",
       "[v1],\n",
       "[v2],\n",
       "[v3],\n",
       "[v4],\n",
       "[v5],\n",
       "[v6]])"
      ]
     },
     "execution_count": 71,
     "metadata": {},
     "output_type": "execute_result"
    }
   ],
   "source": [
    "v"
   ]
  },
  {
   "cell_type": "code",
   "execution_count": 72,
   "metadata": {},
   "outputs": [
    {
     "data": {
      "text/latex": [
       "$\\displaystyle \\left[\\begin{matrix}- 1.0 v_{1} - 1.0 v_{2} + 1.0 v_{6}\\\\1.0 v_{1} - 1.0 v_{5}\\\\1.0 v_{2} - 1.0 v_{3} - 1.0 v_{4}\\end{matrix}\\right] = 0$"
      ],
      "text/plain": [
       "Eq(Matrix([\n",
       "[-1.0*v1 - 1.0*v2 + 1.0*v6],\n",
       "[          1.0*v1 - 1.0*v5],\n",
       "[ 1.0*v2 - 1.0*v3 - 1.0*v4]]), 0)"
      ]
     },
     "execution_count": 72,
     "metadata": {},
     "output_type": "execute_result"
    }
   ],
   "source": [
    "Equality(Matrix(S) * v, 0, evaluate=False)"
   ]
  },
  {
   "cell_type": "code",
   "execution_count": 73,
   "metadata": {},
   "outputs": [],
   "source": [
    "from numpy.linalg import matrix_rank"
   ]
  },
  {
   "cell_type": "code",
   "execution_count": 74,
   "metadata": {},
   "outputs": [
    {
     "data": {
      "text/plain": [
       "(3, 6)"
      ]
     },
     "execution_count": 74,
     "metadata": {},
     "output_type": "execute_result"
    }
   ],
   "source": [
    "S.shape"
   ]
  },
  {
   "cell_type": "code",
   "execution_count": 75,
   "metadata": {},
   "outputs": [
    {
     "data": {
      "text/plain": [
       "3"
      ]
     },
     "execution_count": 75,
     "metadata": {},
     "output_type": "execute_result"
    }
   ],
   "source": [
    "degrees_of_freedom = 6-3\n",
    "degrees_of_freedom"
   ]
  },
  {
   "cell_type": "code",
   "execution_count": 76,
   "metadata": {},
   "outputs": [],
   "source": [
    "S_c = S[:,0:3]\n",
    "S_m = S[:,3:]\n",
    "v_m = np.array ([2.5 , 2 , 10])\n",
    " \n",
    "v_c = -np.linalg.inv(S_c).dot(S_m.dot(v_m))"
   ]
  },
  {
   "cell_type": "code",
   "execution_count": 77,
   "metadata": {},
   "outputs": [
    {
     "data": {
      "text/plain": [
       "array([2. , 8. , 5.5])"
      ]
     },
     "execution_count": 77,
     "metadata": {},
     "output_type": "execute_result"
    }
   ],
   "source": [
    "v_c"
   ]
  },
  {
   "cell_type": "code",
   "execution_count": 78,
   "metadata": {},
   "outputs": [
    {
     "data": {
      "text/plain": [
       "[(2.0, v1), (8.0, v2), (5.5, v3), (2.5, v4), (2.0, v5), (10.0, v6)]"
      ]
     },
     "execution_count": 78,
     "metadata": {},
     "output_type": "execute_result"
    }
   ],
   "source": [
    "list(zip(np.concatenate([v_c, v_m]), v))"
   ]
  },
  {
   "cell_type": "code",
   "execution_count": 79,
   "metadata": {},
   "outputs": [
    {
     "data": {
      "text/plain": [
       "15.5"
      ]
     },
     "execution_count": 79,
     "metadata": {},
     "output_type": "execute_result"
    }
   ],
   "source": [
    "v_c.sum()"
   ]
  },
  {
   "cell_type": "code",
   "execution_count": 82,
   "metadata": {},
   "outputs": [],
   "source": [
    "\n",
    "\n",
    "# 1. Write down the stoichiometry matrix S for the model as a numpy array.\n",
    "# The order of the rows should correspond to A, B and C.\n",
    "# The order of the columns should correspond to v1-v6\n",
    "# The reaction formulas are:\n",
    "# v1: 1 A -> 1 B\n",
    "# v2: 1 A -> 1 C\n",
    "# v3: 1 C ->\n",
    "# v4: 1 C ->\n",
    "# v5: 1 B ->\n",
    "# v6: 1 A -> \n",
    "\n",
    "\n",
    "# 1. Write down the stoichiometry matrix S for the model as a numpy array.\n",
    "# The order of the rows should correspond to A, B and C.\n",
    "# The order of the columns should correspond to v1-v6\n",
    "# The reaction formulas are:\n",
    "# v1: 1 A -> 1 B\n",
    "# v2: 1 A -> 1 C\n",
    "# v3: 1 C -> \n",
    "# v4: 1 C ->\n",
    "# v5: 1 B ->\n",
    "# v6: 1 A -> \n",
    "\n",
    "# replace [[]] with the stoichiometric matrix.\n",
    "\n",
    "import numpy as np\n",
    "S = np.array([[ -1., -1., 0., 0., 0., 1.],\n",
    "              [ 1., 0., 0., 0., -1., 0. ],\n",
    "              [ 0., 1., -1., -1., 0., 0.]])\n",
    "\n",
    "from sympy import Equality, Matrix, symbols\n",
    "v = Matrix(symbols(\"v1:3\") + symbols(\"v3, v4, v5, v6\"))\n",
    "\n",
    "\n",
    "\n",
    "# 2. Calculate how many fluxes need to be measured (degrees of freedom).\n",
    "\n",
    "# Assign your solution to the following variable (replace _ with your solution;\n",
    "# cannot be just a number; should be a computation based on S)\n",
    "v\n",
    "Equality(Matrix(S) * v, 0, evaluate=False)\n",
    "from numpy.linalg import matrix_rank\n",
    "S.shape\n",
    "degrees_of_freedom = 6-3\n",
    "\n",
    "\n",
    "\n",
    "# 3. Based on measured fluxes v4 = 2.5, v5 = 2, and v6 = 10, calculate v1-v3.\n",
    "\n",
    "# Put you're intermediate steps here ...\n",
    "\n",
    "# Assign the final solution here (replace _ with your final step)\n",
    "# v_c needs to be a numpy.array containing the three calculated fluxes v1-v3\n",
    "# Ideally you should get to v_c through a computation involving S and the\n",
    "# measured fluxes v4-v6 as covered in the lecture.\n",
    "\n",
    "S_c = S[:,0:3]\n",
    "S_m = S[:,3:]\n",
    "v_m = np.array ([2.5 , 2 , 10])\n",
    " \n",
    "v_c = -np.linalg.inv(S_c).dot(S_m.dot(v_m))\n",
    "list(zip(np.concatenate([v_c, v_m]), v))\n",
    "v_c.sum()\n",
    "\n",
    "# Tests come in the end\n",
    "###### Don't touch\n",
    "def test_stoichiometry_matrix():\n",
    "    assert hashlib.md5(S.astype(int)).digest() == b'\\x97V\\x01\\xe6\\x14\\x96\\x05p\\xda~?.\\x9b\\xc0.\\x87'\n",
    "\n",
    "def test_degrees_of_freedom():\n",
    "    assert degrees_of_freedom == 3\n",
    "\n",
    "def test_mfa_calculation():\n",
    "    assert v_c.sum() == 15.5\n",
    "###### this\n"
   ]
  },
  {
   "cell_type": "code",
   "execution_count": null,
   "metadata": {},
   "outputs": [],
   "source": []
  }
 ],
 "metadata": {
  "kernelspec": {
   "display_name": "Python 3",
   "language": "python",
   "name": "python3"
  },
  "language_info": {
   "codemirror_mode": {
    "name": "ipython",
    "version": 3
   },
   "file_extension": ".py",
   "mimetype": "text/x-python",
   "name": "python",
   "nbconvert_exporter": "python",
   "pygments_lexer": "ipython3",
   "version": "3.8.5"
  }
 },
 "nbformat": 4,
 "nbformat_minor": 5
}
