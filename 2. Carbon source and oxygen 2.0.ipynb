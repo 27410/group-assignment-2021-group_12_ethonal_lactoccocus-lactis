{
 "cells": [
  {
   "cell_type": "markdown",
   "metadata": {},
   "source": [
    "## system configuration"
   ]
  },
  {
   "cell_type": "code",
   "execution_count": 2,
   "metadata": {},
   "outputs": [],
   "source": [
    "from cobra.io import read_sbml_model\n",
    "model = read_sbml_model('iNF517.xml')"
   ]
  },
  {
   "cell_type": "code",
   "execution_count": 3,
   "metadata": {},
   "outputs": [
    {
     "data": {
      "text/html": [
       "<strong><em>Optimal</em> solution with objective value 0.043</strong><br><div>\n",
       "<style scoped>\n",
       "    .dataframe tbody tr th:only-of-type {\n",
       "        vertical-align: middle;\n",
       "    }\n",
       "\n",
       "    .dataframe tbody tr th {\n",
       "        vertical-align: top;\n",
       "    }\n",
       "\n",
       "    .dataframe thead th {\n",
       "        text-align: right;\n",
       "    }\n",
       "</style>\n",
       "<table border=\"1\" class=\"dataframe\">\n",
       "  <thead>\n",
       "    <tr style=\"text-align: right;\">\n",
       "      <th></th>\n",
       "      <th>fluxes</th>\n",
       "      <th>reduced_costs</th>\n",
       "    </tr>\n",
       "  </thead>\n",
       "  <tbody>\n",
       "    <tr>\n",
       "      <th>ACALDt</th>\n",
       "      <td>-0.162725</td>\n",
       "      <td>-0.0</td>\n",
       "    </tr>\n",
       "    <tr>\n",
       "      <th>ACMANApts</th>\n",
       "      <td>0.000000</td>\n",
       "      <td>0.0</td>\n",
       "    </tr>\n",
       "    <tr>\n",
       "      <th>ACTNdiff</th>\n",
       "      <td>0.000000</td>\n",
       "      <td>0.0</td>\n",
       "    </tr>\n",
       "    <tr>\n",
       "      <th>ACt2r</th>\n",
       "      <td>-0.830000</td>\n",
       "      <td>-0.0</td>\n",
       "    </tr>\n",
       "    <tr>\n",
       "      <th>ADEt2</th>\n",
       "      <td>0.010140</td>\n",
       "      <td>0.0</td>\n",
       "    </tr>\n",
       "    <tr>\n",
       "      <th>...</th>\n",
       "      <td>...</td>\n",
       "      <td>...</td>\n",
       "    </tr>\n",
       "    <tr>\n",
       "      <th>MCMAT8</th>\n",
       "      <td>0.003012</td>\n",
       "      <td>0.0</td>\n",
       "    </tr>\n",
       "    <tr>\n",
       "      <th>METDabc</th>\n",
       "      <td>0.000000</td>\n",
       "      <td>0.0</td>\n",
       "    </tr>\n",
       "    <tr>\n",
       "      <th>PSERT</th>\n",
       "      <td>0.000000</td>\n",
       "      <td>0.0</td>\n",
       "    </tr>\n",
       "    <tr>\n",
       "      <th>BGLA1</th>\n",
       "      <td>0.000000</td>\n",
       "      <td>0.0</td>\n",
       "    </tr>\n",
       "    <tr>\n",
       "      <th>SUCpts</th>\n",
       "      <td>0.000000</td>\n",
       "      <td>0.0</td>\n",
       "    </tr>\n",
       "  </tbody>\n",
       "</table>\n",
       "<p>754 rows × 2 columns</p>\n",
       "</div>"
      ],
      "text/plain": [
       "<Solution 0.043 at 0x7fdbb174f820>"
      ]
     },
     "execution_count": 3,
     "metadata": {},
     "output_type": "execute_result"
    }
   ],
   "source": [
    "model.optimize()"
   ]
  },
  {
   "cell_type": "code",
   "execution_count": 4,
   "metadata": {},
   "outputs": [
    {
     "name": "stdout",
     "output_type": "stream",
     "text": [
      "CPU times: user 296 ms, sys: 23.2 ms, total: 319 ms\n",
      "Wall time: 320 ms\n"
     ]
    }
   ],
   "source": [
    "%%time\n",
    "copy_of_model = model.copy()"
   ]
  },
  {
   "cell_type": "code",
   "execution_count": null,
   "metadata": {},
   "outputs": [],
   "source": [
    "%%time\n",
    "for gene in model.genes:\n",
    "    mutant = model.copy()\n",
    "    mutant.genes.get_by_id(gene.id).knock_out()"
   ]
  },
  {
   "cell_type": "code",
   "execution_count": null,
   "metadata": {},
   "outputs": [],
   "source": [
    "%%time\n",
    "with model:\n",
    "    for gene in model.genes:\n",
    "        gene.knock_out()"
   ]
  },
  {
   "cell_type": "code",
   "execution_count": null,
   "metadata": {},
   "outputs": [],
   "source": [
    "with model:\n",
    "    model.reactions.PGK.bounds = 0, 0\n",
    "    print(\"PGK's bounds inside the with statement\")\n",
    "    print(model.reactions.PGK.lower_bound, model.reactions.PGK.bounds)\n",
    "    print('Mutant growth rate: ', model.optimize().objective_value)\n",
    "print(\"PGK's bounds outside the with statement\")\n",
    "print(model.reactions.PGK.bounds)"
   ]
  },
  {
   "cell_type": "code",
   "execution_count": null,
   "metadata": {},
   "outputs": [],
   "source": [
    "%%time\n",
    "solution = model.optimize()\n",
    "solution.fluxes['ATPM']"
   ]
  },
  {
   "cell_type": "code",
   "execution_count": null,
   "metadata": {},
   "outputs": [],
   "source": [
    "%%time\n",
    "model.slim_optimize()\n",
    "model.reactions.ATPM.flux"
   ]
  },
  {
   "cell_type": "code",
   "execution_count": null,
   "metadata": {},
   "outputs": [],
   "source": [
    "model.medium"
   ]
  },
  {
   "cell_type": "code",
   "execution_count": null,
   "metadata": {},
   "outputs": [],
   "source": [
    "solution = model.optimize()"
   ]
  },
  {
   "cell_type": "code",
   "execution_count": null,
   "metadata": {},
   "outputs": [],
   "source": [
    "solution.fluxes"
   ]
  },
  {
   "cell_type": "markdown",
   "metadata": {},
   "source": [
    "## medium with glucose"
   ]
  },
  {
   "cell_type": "code",
   "execution_count": 71,
   "metadata": {},
   "outputs": [
    {
     "name": "stdout",
     "output_type": "stream",
     "text": [
      "the flux of etoh_e production:  1.02 [mmol gDW^-1 h^-1]\n",
      "The molar yield of etoh_e  0.4811320754716981 [mmol-etoh_e / mmol-glc]\n",
      "the flux of biomass production:  0.04263460544337321 [mmol gDW^-1 h^-1]\n",
      "The molar yield of biomass  0.020110662944987364 [mmol-biomass / mmol-glc]\n"
     ]
    }
   ],
   "source": [
    "medium = model.medium\n",
    "with model:\n",
    "    medium['EX_glc__D_e'] = 2.12\n",
    "    model.medium = medium\n",
    "    solution = model.optimize()\n",
    "with model:\n",
    "    # calculating max yield of etoh\n",
    "    substrate_flux = model.reactions.EX_glc__D_e.flux\n",
    "    model.objective = model.reactions.EX_etoh_e \n",
    "    max_etoh_e_production = model.optimize().objective_value\n",
    "    print(\"the flux of etoh_e production: \",max_etoh_e_production , \"[mmol gDW^-1 h^-1]\")\n",
    "    # calculating molar yield\n",
    "    molar_yield_etoh_e = max_etoh_e_production / (-1. * substrate_flux)\n",
    "    print(\"The molar yield of etoh_e \", molar_yield_etoh_e, \"[mmol-etoh_e / mmol-glc]\")\n",
    "with model:\n",
    "    # calculating max yield of etoh\n",
    "    substrate_flux = model.reactions.EX_glc__D_e.flux\n",
    "    model.objective = model.reactions.BIOMASS_LLA\n",
    "    max_biomass_production = model.optimize().objective_value\n",
    "    print(\"the flux of biomass production: \",max_biomass_production , \"[mmol gDW^-1 h^-1]\")\n",
    "    # calculating molar yield\n",
    "    molar_yield_biomass = max_biomass_production / (-1. * substrate_flux)\n",
    "    print(\"The molar yield of biomass \", molar_yield_biomass, \"[mmol-biomass / mmol-glc]\")"
   ]
  },
  {
   "cell_type": "markdown",
   "metadata": {},
   "source": [
    "#### with 2.12 mmol / gDW*h glucose, the yiled of ethanol is 1.02 mmol / gDW*h "
   ]
  },
  {
   "cell_type": "markdown",
   "metadata": {},
   "source": [
    "## medium without glucose"
   ]
  },
  {
   "cell_type": "code",
   "execution_count": null,
   "metadata": {},
   "outputs": [],
   "source": [
    "medium = model.medium\n",
    "with model:\n",
    "    medium['EX_glc__D_e'] =0\n",
    "    model.medium = medium\n",
    "    solution = model.optimize()\n",
    "    print(solution.fluxes['EX_etoh_e'])\n",
    "    \n",
    "medium = model.medium\n",
    "with model:\n",
    "    medium['EX_glc__D_e'] =0\n",
    "    model.medium = medium\n",
    "    solution = model.optimize()\n",
    "    print(solution.fluxes['BIOMASS_LLA'])"
   ]
  },
  {
   "cell_type": "markdown",
   "metadata": {},
   "source": [
    "This result showed that L.lactics can not grow and produce ethanol without glucose"
   ]
  },
  {
   "cell_type": "markdown",
   "metadata": {},
   "source": [
    "## Minimal media"
   ]
  },
  {
   "cell_type": "code",
   "execution_count": 16,
   "metadata": {},
   "outputs": [
    {
     "data": {
      "text/plain": [
       "EX_ade_e        4.750348e-03\n",
       "EX_arg__L_e     2.000000e-02\n",
       "EX_asp__L_e     1.000000e-02\n",
       "EX_cys__L_e     1.236698e-02\n",
       "EX_glc__D_e     1.264662e+00\n",
       "EX_glu__L_e     5.000000e-02\n",
       "EX_gua_e        5.056891e-03\n",
       "EX_his__L_e     3.223944e-03\n",
       "EX_ile__L_e     1.000000e-02\n",
       "EX_leu__L_e     1.576150e-02\n",
       "EX_lys__L_e     1.515899e-02\n",
       "EX_nac_e        8.526921e-05\n",
       "EX_pi_e         2.939315e-02\n",
       "EX_pnto__R_e    8.526921e-06\n",
       "EX_ser__L_e     6.774111e-02\n",
       "EX_thm_e        4.263461e-07\n",
       "EX_thr__L_e     2.000000e-02\n",
       "EX_ura_e        7.468730e-03\n",
       "EX_val__L_e     1.000000e-02\n",
       "dtype: float64"
      ]
     },
     "execution_count": 16,
     "metadata": {},
     "output_type": "execute_result"
    }
   ],
   "source": [
    "from cobra.medium import minimal_medium\n",
    "\n",
    "max_growth = model.slim_optimize()\n",
    "minimal_medium(model, max_growth)"
   ]
  },
  {
   "cell_type": "code",
   "execution_count": 72,
   "metadata": {},
   "outputs": [
    {
     "name": "stdout",
     "output_type": "stream",
     "text": [
      "the flux of etoh_e production:  1.02 [mmol gDW^-1 h^-1]\n",
      "The molar yield of etoh_e  0.8095238095238095 [mmol-etoh_e / mmol-glc]\n",
      "the flux of biomass production:  0.042634605443373275 [mmol gDW^-1 h^-1]\n",
      "The molar yield of biomass  0.020110662944987392 [mmol-biomass / mmol-glc]\n"
     ]
    }
   ],
   "source": [
    "#this is for glucose content with minium medium\n",
    "medium = model.medium\n",
    "with model:\n",
    "    medium['EX_glc__D_e'] = 1.26\n",
    "    model.medium = medium\n",
    "    solution = model.optimize()\n",
    "medium = model.medium\n",
    "with model:\n",
    "    medium['EX_glc__D_e'] = 1.26\n",
    "    model.medium = medium\n",
    "    solution = model.optimize()\n",
    "\n",
    "with model:\n",
    "    # calculating max yield of etoh\n",
    "    substrate_flux = model.reactions.EX_glc__D_e.flux\n",
    "    model.objective = model.reactions.EX_etoh_e \n",
    "    max_etoh_e_production = model.optimize().objective_value\n",
    "    print(\"the flux of etoh_e production: \",max_etoh_e_production , \"[mmol gDW^-1 h^-1]\")\n",
    "    # calculating molar yield\n",
    "    molar_yield_etoh_e = max_etoh_e_production / (-1. * substrate_flux)\n",
    "    print(\"The molar yield of etoh_e \", molar_yield_etoh_e, \"[mmol-etoh_e / mmol-glc]\")   \n",
    "with model:\n",
    "    # calculating max yield of etoh\n",
    "    substrate_flux = model.reactions.EX_glc__D_e.flux\n",
    "    model.objective = model.reactions.BIOMASS_LLA\n",
    "    max_biomass_production = model.optimize().objective_value\n",
    "    print(\"the flux of biomass production: \",max_biomass_production , \"[mmol gDW^-1 h^-1]\")\n",
    "    # calculating molar yield\n",
    "    molar_yield_biomass = max_biomass_production / (-1. * substrate_flux)\n",
    "    print(\"The molar yield of biomass \", molar_yield_biomass, \"[mmol-biomass / mmol-glc]\")\n"
   ]
  },
  {
   "cell_type": "markdown",
   "metadata": {},
   "source": [
    "## medium with glucose and other carbon source"
   ]
  },
  {
   "cell_type": "code",
   "execution_count": 64,
   "metadata": {},
   "outputs": [
    {
     "name": "stdout",
     "output_type": "stream",
     "text": [
      "the flux of etoh_e production:  1.02 [mmol gDW^-1 h^-1]\n",
      "The molar yield of etoh_e  0.584550362395441 [mmol-etoh_e / mmol-sub]\n",
      "the flux of biomass production:  0.042634605443374614 [mmol gDW^-1 h^-1]\n",
      "The molar yield of biomass  0.020110662944988023 [mmol-biomass / mmol-sub]\n"
     ]
    }
   ],
   "source": [
    "#this is for glucose mix with lactose for carbon source\n",
    "medium = model.medium\n",
    "with model:\n",
    "    medium['EX_glc__D_e'] = 1.26\n",
    "    medium['EX_lcts_e'] = 0.5\n",
    "    model.medium = medium\n",
    "    solution = model.optimize()\n",
    "medium = model.medium\n",
    "with model:\n",
    "    medium['EX_glc__D_e'] = 1.26\n",
    "    medium['EX_lcts_e'] = 0.5\n",
    "    model.medium = medium\n",
    "    solution = model.optimize()\n",
    "with model:\n",
    "    # calculating max yield of etoh\n",
    "    substrate_flux = model.reactions.EX_glc__D_e.flux + model.reactions.EX_lcts_e.flux\n",
    "    model.objective = model.reactions.EX_etoh_e \n",
    "    max_etoh_e_production = model.optimize().objective_value \n",
    "    print(\"the flux of etoh_e production: \",max_etoh_e_production , \"[mmol gDW^-1 h^-1]\")\n",
    "    # calculating molar yield\n",
    "    molar_yield_etoh_e = max_etoh_e_production / (-1. * substrate_flux)\n",
    "    print(\"The molar yield of etoh_e \", molar_yield_etoh_e, \"[mmol-etoh_e / mmol-sub]\")\n",
    "with model:\n",
    "    # calculating max yield of etoh\n",
    "    substrate_flux = model.reactions.EX_glc__D_e.flux + model.reactions.EX_lcts_e.flux\n",
    "    model.objective = model.reactions.BIOMASS_LLA\n",
    "    max_biomass_production = model.optimize().objective_value\n",
    "    print(\"the flux of biomass production: \",max_biomass_production , \"[mmol gDW^-1 h^-1]\")\n",
    "    # calculating molar yield\n",
    "    molar_yield_biomass = max_biomass_production / (-1. * substrate_flux)\n",
    "    print(\"The molar yield of biomass \", molar_yield_biomass, \"[mmol-biomass / mmol-sub]\")"
   ]
  },
  {
   "cell_type": "code",
   "execution_count": 66,
   "metadata": {},
   "outputs": [
    {
     "name": "stdout",
     "output_type": "stream",
     "text": [
      "the flux of etoh_e production:  1.02 [mmol gDW^-1 h^-1]\n",
      "The molar yield of etoh_e  0.6027042731673039 [mmol-etoh_e / mmol-glc]\n",
      "the flux of biomass production:  0.04263460544337314 [mmol gDW^-1 h^-1]\n",
      "The molar yield of biomass  0.02011066294498733 [mmol-biomass / mmol-glc]\n"
     ]
    }
   ],
   "source": [
    "#this is for glucose mix with maltose for carbon source\n",
    "medium = model.medium\n",
    "with model:\n",
    "    medium['EX_glc__D_e'] = 1.26\n",
    "    medium['EX_malt_e'] = 0.5\n",
    "    model.medium = medium\n",
    "    solution = model.optimize()\n",
    "medium = model.medium\n",
    "with model:\n",
    "    medium['EX_glc__D_e'] = 1.26\n",
    "    medium['EX_malt_e'] = 0.5\n",
    "    model.medium = medium\n",
    "    solution = model.optimize()\n",
    "with model:\n",
    "    # calculating max yield of etoh\n",
    "    substrate_flux = model.reactions.EX_glc__D_e.flux + model.reactions.EX_malt_e.flux\n",
    "    model.objective = model.reactions.EX_etoh_e \n",
    "    max_etoh_e_production = model.optimize().objective_value\n",
    "    print(\"the flux of etoh_e production: \",max_etoh_e_production , \"[mmol gDW^-1 h^-1]\")\n",
    "    # calculating molar yield\n",
    "    molar_yield_etoh_e = max_etoh_e_production / (-1. * substrate_flux)\n",
    "    print(\"The molar yield of etoh_e \", molar_yield_etoh_e, \"[mmol-etoh_e / mmol-glc]\")\n",
    "with model:\n",
    "    # calculating max yield of etoh\n",
    "    substrate_flux = model.reactions.EX_glc__D_e.flux + model.reactions.EX_malt_e.flux\n",
    "    model.objective = model.reactions.BIOMASS_LLA\n",
    "    max_biomass_production = model.optimize().objective_value\n",
    "    print(\"the flux of biomass production: \",max_biomass_production , \"[mmol gDW^-1 h^-1]\")\n",
    "    # calculating molar yield\n",
    "    molar_yield_biomass = max_biomass_production / (-1. * substrate_flux)\n",
    "    print(\"The molar yield of biomass \", molar_yield_biomass, \"[mmol-biomass / mmol-glc]\")"
   ]
  },
  {
   "cell_type": "code",
   "execution_count": 68,
   "metadata": {},
   "outputs": [
    {
     "name": "stdout",
     "output_type": "stream",
     "text": [
      "the flux of etoh_e production:  1.02 [mmol gDW^-1 h^-1]\n",
      "The molar yield of etoh_e  0.5795454545454546 [mmol-etoh_e / mmol-sub]\n",
      "the flux of biomass production:  0.042634605443373046 [mmol gDW^-1 h^-1]\n",
      "The molar yield of biomass  0.020110662944987284 [mmol-biomass / mmol-sub]\n"
     ]
    }
   ],
   "source": [
    "#this is for glucose mix with frutose for carbon source\n",
    "medium = model.medium\n",
    "with model:\n",
    "    medium['EX_glc__D_e'] = 1.26\n",
    "    medium['EX_fru_e'] = 0.5\n",
    "    model.medium = medium\n",
    "    solution = model.optimize()\n",
    "    \n",
    "medium = model.medium\n",
    "with model:\n",
    "    medium['EX_glc__D_e'] = 1.26\n",
    "    medium['EX_fru_e'] = 0.5\n",
    "    model.medium = medium\n",
    "    solution = model.optimize()\n",
    "with model:\n",
    "    # calculating max yield of etoh\n",
    "    substrate_flux = model.reactions.EX_glc__D_e.flux + model.reactions.EX_fru_e.flux\n",
    "    model.objective = model.reactions.EX_etoh_e \n",
    "    max_etoh_e_production = model.optimize().objective_value\n",
    "    print(\"the flux of etoh_e production: \",max_etoh_e_production , \"[mmol gDW^-1 h^-1]\")\n",
    "    # calculating molar yield\n",
    "    molar_yield_etoh_e = max_etoh_e_production / (-1. * substrate_flux)\n",
    "    print(\"The molar yield of etoh_e \", molar_yield_etoh_e, \"[mmol-etoh_e / mmol-sub]\")\n",
    "with model:\n",
    "    # calculating max yield of etoh\n",
    "    substrate_flux = model.reactions.EX_glc__D_e.flux + model.reactions.EX_fru_e.flux\n",
    "    model.objective = model.reactions.BIOMASS_LLA\n",
    "    max_biomass_production = model.optimize().objective_value\n",
    "    print(\"the flux of biomass production: \",max_biomass_production , \"[mmol gDW^-1 h^-1]\")\n",
    "    # calculating molar yield\n",
    "    molar_yield_biomass = max_biomass_production / (-1. * substrate_flux)\n",
    "    print(\"The molar yield of biomass \", molar_yield_biomass, \"[mmol-biomass / mmol-sub]\")"
   ]
  },
  {
   "cell_type": "code",
   "execution_count": 73,
   "metadata": {},
   "outputs": [
    {
     "name": "stdout",
     "output_type": "stream",
     "text": [
      "the flux of etoh_e production:  1.02 [mmol gDW^-1 h^-1]\n",
      "The molar yield of etoh_e  0.5795454545454546 [mmol-etoh_e / mmol-sub]\n",
      "the flux of biomass production:  0.042634605443373164 [mmol gDW^-1 h^-1]\n",
      "The molar yield of biomass  0.02011066294498734 [mmol-biomass / mmol-sub]\n"
     ]
    }
   ],
   "source": [
    "#this is for glucose mix with surcose for carbon source\n",
    "medium = model.medium\n",
    "with model:\n",
    "    medium['EX_glc__D_e'] = 1.26\n",
    "    medium['EX_sucr_e'] = 0.5\n",
    "    model.medium = medium\n",
    "    solution = model.optimize()\n",
    "\n",
    "medium = model.medium\n",
    "with model:\n",
    "    medium['EX_glc__D_e'] = 1.26\n",
    "    medium['EX_sucr_e'] = 0.5\n",
    "    model.medium = medium\n",
    "    solution = model.optimize()\n",
    "with model:\n",
    "    # calculating max yield of etoh\n",
    "    substrate_flux = model.reactions.EX_glc__D_e.flux + model.reactions.EX_sucr_e.flux\n",
    "    model.objective = model.reactions.EX_etoh_e \n",
    "    max_etoh_e_production = model.optimize().objective_value\n",
    "    print(\"the flux of etoh_e production: \",max_etoh_e_production , \"[mmol gDW^-1 h^-1]\")\n",
    "    # calculating molar yield\n",
    "    molar_yield_etoh_e = max_etoh_e_production / (-1. * substrate_flux)\n",
    "    print(\"The molar yield of etoh_e \", molar_yield_etoh_e, \"[mmol-etoh_e / mmol-sub]\")\n",
    "with model:\n",
    "    # calculating max yield of etoh\n",
    "    substrate_flux = model.reactions.EX_glc__D_e.flux + model.reactions.EX_sucr_e.flux\n",
    "    model.objective = model.reactions.BIOMASS_LLA\n",
    "    max_biomass_production = model.optimize().objective_value\n",
    "    print(\"the flux of biomass production: \",max_biomass_production , \"[mmol gDW^-1 h^-1]\")\n",
    "    # calculating molar yield\n",
    "    molar_yield_biomass = max_biomass_production / (-1. * substrate_flux)\n",
    "    print(\"The molar yield of biomass \", molar_yield_biomass, \"[mmol-biomass / mmol-sub]\")"
   ]
  },
  {
   "cell_type": "code",
   "execution_count": 75,
   "metadata": {},
   "outputs": [
    {
     "name": "stdout",
     "output_type": "stream",
     "text": [
      "the flux of etoh_e production:  1.02 [mmol gDW^-1 h^-1]\n",
      "The molar yield of etoh_e  0.5795454545454546 [mmol-etoh_e / mmol-sub]\n",
      "the flux of biomass production:  0.04263460544337336 [mmol gDW^-1 h^-1]\n",
      "The molar yield of biomass  0.020110662944987433 [mmol-biomass / mmol-sub]\n"
     ]
    }
   ],
   "source": [
    "#this is for glucose mix with galacose for carbon source\n",
    "medium = model.medium\n",
    "with model:\n",
    "    medium['EX_glc__D_e'] = 1.26\n",
    "    medium['EX_gal_e'] = 0.5\n",
    "    model.medium = medium\n",
    "    solution = model.optimize()\n",
    "\n",
    "medium = model.medium\n",
    "with model:\n",
    "    medium['EX_glc__D_e'] = 1.26\n",
    "    medium['EX_gal_e'] = 0.5\n",
    "    model.medium = medium\n",
    "    solution = model.optimize()\n",
    "\n",
    "with model:\n",
    "    # calculating max yield of etoh\n",
    "    substrate_flux = model.reactions.EX_glc__D_e.flux + model.reactions.EX_gal_e.flux\n",
    "    model.objective = model.reactions.EX_etoh_e \n",
    "    max_etoh_e_production = model.optimize().objective_value\n",
    "    print(\"the flux of etoh_e production: \",max_etoh_e_production , \"[mmol gDW^-1 h^-1]\")\n",
    "    # calculating molar yield\n",
    "    molar_yield_etoh_e = max_etoh_e_production / (-1. * substrate_flux)\n",
    "    print(\"The molar yield of etoh_e \", molar_yield_etoh_e, \"[mmol-etoh_e / mmol-sub]\")\n",
    "with model:\n",
    "    # calculating max yield of etoh\n",
    "    substrate_flux = model.reactions.EX_glc__D_e.flux + model.reactions.EX_gal_e.flux\n",
    "    model.objective = model.reactions.BIOMASS_LLA\n",
    "    max_biomass_production = model.optimize().objective_value\n",
    "    print(\"the flux of biomass production: \",max_biomass_production , \"[mmol gDW^-1 h^-1]\")\n",
    "    # calculating molar yield\n",
    "    molar_yield_biomass = max_biomass_production / (-1. * substrate_flux)\n",
    "    print(\"The molar yield of biomass \", molar_yield_biomass, \"[mmol-biomass / mmol-sub]\")"
   ]
  },
  {
   "cell_type": "code",
   "execution_count": 77,
   "metadata": {},
   "outputs": [
    {
     "name": "stdout",
     "output_type": "stream",
     "text": [
      "the flux of etoh_e production:  1.02 [mmol gDW^-1 h^-1]\n",
      "The molar yield of etoh_e  0.6108062317430152 [mmol-etoh_e / mmol-sub]\n",
      "the flux of biomass production:  0.04263460544337352 [mmol gDW^-1 h^-1]\n",
      "The molar yield of biomass  0.02582753440462172 [mmol-biomass / mmol-sub]\n"
     ]
    }
   ],
   "source": [
    "#this is for glucose mix with glycerol for carbon source\n",
    "medium = model.medium\n",
    "with model:\n",
    "    medium['EX_glc__D_e'] = 1.26\n",
    "    medium['EX_glyc_e'] = 0.5\n",
    "    model.medium = medium\n",
    "    solution = model.optimize()\n",
    "    \n",
    "    \n",
    "medium = model.medium\n",
    "with model:\n",
    "    medium['EX_glc__D_e'] = 1.26\n",
    "    medium['EX_glyc_e'] = 0.5\n",
    "    model.medium = medium\n",
    "    solution = model.optimize()\n",
    "\n",
    "with model:\n",
    "    # calculating max yield of etoh\n",
    "    substrate_flux = model.reactions.EX_glc__D_e.flux + model.reactions.EX_glyc_e.flux\n",
    "    model.objective = model.reactions.EX_etoh_e \n",
    "    max_etoh_e_production = model.optimize().objective_value\n",
    "    print(\"the flux of etoh_e production: \",max_etoh_e_production , \"[mmol gDW^-1 h^-1]\")\n",
    "    # calculating molar yield\n",
    "    molar_yield_etoh_e = max_etoh_e_production / (-1. * substrate_flux)\n",
    "    print(\"The molar yield of etoh_e \", molar_yield_etoh_e, \"[mmol-etoh_e / mmol-sub]\")\n",
    "with model:\n",
    "    # calculating max yield of etoh\n",
    "    substrate_flux = model.reactions.EX_glc__D_e.flux + model.reactions.EX_glyc_e.flux\n",
    "    model.objective = model.reactions.BIOMASS_LLA\n",
    "    max_biomass_production = model.optimize().objective_value\n",
    "    print(\"the flux of biomass production: \",max_biomass_production , \"[mmol gDW^-1 h^-1]\")\n",
    "    # calculating molar yield\n",
    "    molar_yield_biomass = max_biomass_production / (-1. * substrate_flux)\n",
    "    print(\"The molar yield of biomass \", molar_yield_biomass, \"[mmol-biomass / mmol-sub]\")"
   ]
  },
  {
   "cell_type": "markdown",
   "metadata": {},
   "source": [
    "## in anaerobic condition"
   ]
  },
  {
   "cell_type": "code",
   "execution_count": 79,
   "metadata": {},
   "outputs": [
    {
     "name": "stdout",
     "output_type": "stream",
     "text": [
      "the flux of etoh_e production:  1.02 [mmol gDW^-1 h^-1]\n",
      "The molar yield of etoh_e  0.8095238095238095 [mmol-etoh_e / mmol-sub]\n",
      "the flux of biomass production:  0.042634605443360146 [mmol gDW^-1 h^-1]\n",
      "The molar yield of biomass  0.0201106629449812 [mmol-biomass / mmol-sub]\n"
     ]
    }
   ],
   "source": [
    "#this is for anaerobic condition \n",
    "medium = model.medium\n",
    "with model:\n",
    "    medium['EX_glc__D_e'] = 1.26\n",
    "    medium['EX_o2_e'] = 0\n",
    "    model.medium = medium\n",
    "    solution = model.optimize()\n",
    "\n",
    "medium = model.medium\n",
    "with model:\n",
    "    medium['EX_glc__D_e'] = 1.26\n",
    "    medium['EX_o2_e'] = 0\n",
    "    model.medium = medium\n",
    "    solution = model.optimize()\n",
    "    \n",
    "with model:\n",
    "    # calculating max yield of etoh\n",
    "    substrate_flux = model.reactions.EX_glc__D_e.flux + model.reactions.EX_o2_e.flux\n",
    "    model.objective = model.reactions.EX_etoh_e \n",
    "    max_etoh_e_production = model.optimize().objective_value\n",
    "    print(\"the flux of etoh_e production: \",max_etoh_e_production , \"[mmol gDW^-1 h^-1]\")\n",
    "    # calculating molar yield\n",
    "    molar_yield_etoh_e = max_etoh_e_production / (-1. * substrate_flux)\n",
    "    print(\"The molar yield of etoh_e \", molar_yield_etoh_e, \"[mmol-etoh_e / mmol-sub]\")\n",
    "with model:\n",
    "    # calculating max yield of etoh\n",
    "    substrate_flux = model.reactions.EX_glc__D_e.flux + model.reactions.EX_o2_e.flux\n",
    "    model.objective = model.reactions.BIOMASS_LLA\n",
    "    max_biomass_production = model.optimize().objective_value\n",
    "    print(\"the flux of biomass production: \",max_biomass_production , \"[mmol gDW^-1 h^-1]\")\n",
    "    # calculating molar yield\n",
    "    molar_yield_biomass = max_biomass_production / (-1. * substrate_flux)\n",
    "    print(\"The molar yield of biomass \", molar_yield_biomass, \"[mmol-biomass / mmol-sub]\")"
   ]
  },
  {
   "cell_type": "markdown",
   "metadata": {},
   "source": [
    "## in aerobic condition"
   ]
  },
  {
   "cell_type": "code",
   "execution_count": 84,
   "metadata": {},
   "outputs": [
    {
     "name": "stdout",
     "output_type": "stream",
     "text": [
      "the flux of etoh_e production:  1.02 [mmol gDW^-1 h^-1]\n",
      "The molar yield of etoh_e  0.8095238095238095 [mmol-etoh_e / mmol-sub]\n",
      "the flux of biomass production:  0.04263460544337292 [mmol gDW^-1 h^-1]\n",
      "The molar yield of biomass  0.020110662944987225 [mmol-biomass / mmol-sub]\n"
     ]
    }
   ],
   "source": [
    "#this is for aerobic condition\n",
    "medium = model.medium\n",
    "with model:\n",
    "    medium['EX_glc__D_e'] = 1.26\n",
    "    medium['EX_o2_e'] = 5\n",
    "    model.medium = medium\n",
    "    solution = model.optimize()\n",
    "   \n",
    "medium = model.medium\n",
    "with model:\n",
    "    medium['EX_glc__D_e'] = 1.26\n",
    "    medium['EX_o2_e'] = 5\n",
    "    model.medium = medium\n",
    "    solution = model.optimize()\n",
    "with model:\n",
    "    # calculating max yield of etoh\n",
    "    substrate_flux = model.reactions.EX_glc__D_e.flux + model.reactions.EX_o2_e.flux\n",
    "    model.objective = model.reactions.EX_etoh_e \n",
    "    max_etoh_e_production = model.optimize().objective_value\n",
    "    print(\"the flux of etoh_e production: \",max_etoh_e_production , \"[mmol gDW^-1 h^-1]\")\n",
    "    # calculating molar yield\n",
    "    molar_yield_etoh_e = max_etoh_e_production / (-1. * substrate_flux)\n",
    "    print(\"The molar yield of etoh_e \", molar_yield_etoh_e, \"[mmol-etoh_e / mmol-sub]\")\n",
    "with model:\n",
    "    # calculating max yield of etoh\n",
    "    substrate_flux = model.reactions.EX_glc__D_e.flux + model.reactions.EX_o2_e.flux\n",
    "    model.objective = model.reactions.BIOMASS_LLA\n",
    "    max_biomass_production = model.optimize().objective_value\n",
    "    print(\"the flux of biomass production: \",max_biomass_production , \"[mmol gDW^-1 h^-1]\")\n",
    "    # calculating molar yield\n",
    "    molar_yield_biomass = max_biomass_production / (-1. * substrate_flux)\n",
    "    print(\"The molar yield of biomass \", molar_yield_biomass, \"[mmol-biomass / mmol-sub]\")"
   ]
  },
  {
   "cell_type": "code",
   "execution_count": null,
   "metadata": {},
   "outputs": [],
   "source": []
  },
  {
   "cell_type": "code",
   "execution_count": null,
   "metadata": {},
   "outputs": [],
   "source": []
  },
  {
   "cell_type": "code",
   "execution_count": null,
   "metadata": {},
   "outputs": [],
   "source": []
  },
  {
   "cell_type": "code",
   "execution_count": null,
   "metadata": {},
   "outputs": [],
   "source": []
  },
  {
   "cell_type": "code",
   "execution_count": null,
   "metadata": {},
   "outputs": [],
   "source": []
  },
  {
   "cell_type": "code",
   "execution_count": null,
   "metadata": {},
   "outputs": [],
   "source": []
  }
 ],
 "metadata": {
  "kernelspec": {
   "display_name": "Python 3",
   "language": "python",
   "name": "python3"
  },
  "language_info": {
   "codemirror_mode": {
    "name": "ipython",
    "version": 3
   },
   "file_extension": ".py",
   "mimetype": "text/x-python",
   "name": "python",
   "nbconvert_exporter": "python",
   "pygments_lexer": "ipython3",
   "version": "3.8.5"
  }
 },
 "nbformat": 4,
 "nbformat_minor": 4
}
