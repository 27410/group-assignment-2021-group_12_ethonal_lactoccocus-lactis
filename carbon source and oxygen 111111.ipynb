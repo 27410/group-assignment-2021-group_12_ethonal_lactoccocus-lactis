{
 "cells": [
  {
   "cell_type": "markdown",
   "metadata": {},
   "source": [
    "## system configuration"
   ]
  },
  {
   "cell_type": "code",
   "execution_count": null,
   "metadata": {},
   "outputs": [],
   "source": [
    "from cobra.io import read_sbml_model\n",
    "model = read_sbml_model('iNF517.xml')"
   ]
  },
  {
   "cell_type": "code",
   "execution_count": null,
   "metadata": {},
   "outputs": [],
   "source": [
    "model.optimize()"
   ]
  },
  {
   "cell_type": "code",
   "execution_count": null,
   "metadata": {},
   "outputs": [],
   "source": [
    "%%time\n",
    "copy_of_model = model.copy()"
   ]
  },
  {
   "cell_type": "code",
   "execution_count": null,
   "metadata": {},
   "outputs": [],
   "source": [
    "%%time\n",
    "for gene in model.genes:\n",
    "    mutant = model.copy()\n",
    "    mutant.genes.get_by_id(gene.id).knock_out()"
   ]
  },
  {
   "cell_type": "code",
   "execution_count": null,
   "metadata": {},
   "outputs": [],
   "source": [
    "%%time\n",
    "with model:\n",
    "    for gene in model.genes:\n",
    "        gene.knock_out()"
   ]
  },
  {
   "cell_type": "code",
   "execution_count": 7,
   "metadata": {},
   "outputs": [
    {
     "name": "stdout",
     "output_type": "stream",
     "text": [
      "PGK's bounds inside the with statement\n",
      "0 (0, 0)\n",
      "Mutant growth rate:  -3.697962547581411e-18\n",
      "PGK's bounds outside the with statement\n",
      "(-1000.0, 1000.0)\n"
     ]
    },
    {
     "name": "stderr",
     "output_type": "stream",
     "text": [
      "/opt/conda/lib/python3.8/site-packages/cobra/util/solver.py:554: UserWarning: Solver status is 'infeasible'.\n",
      "  warn(f\"Solver status is '{status}'.\", UserWarning)\n"
     ]
    }
   ],
   "source": [
    "with model:\n",
    "    model.reactions.PGK.bounds = 0, 0\n",
    "    print(\"PGK's bounds inside the with statement\")\n",
    "    print(model.reactions.PGK.lower_bound, model.reactions.PGK.bounds)\n",
    "    print('Mutant growth rate: ', model.optimize().objective_value)\n",
    "print(\"PGK's bounds outside the with statement\")\n",
    "print(model.reactions.PGK.bounds)"
   ]
  },
  {
   "cell_type": "code",
   "execution_count": 8,
   "metadata": {},
   "outputs": [
    {
     "name": "stdout",
     "output_type": "stream",
     "text": [
      "CPU times: user 14.9 ms, sys: 379 µs, total: 15.3 ms\n",
      "Wall time: 32 ms\n"
     ]
    },
    {
     "data": {
      "text/plain": [
       "0.0"
      ]
     },
     "execution_count": 8,
     "metadata": {},
     "output_type": "execute_result"
    }
   ],
   "source": [
    "%%time\n",
    "solution = model.optimize()\n",
    "solution.fluxes['ATPM']"
   ]
  },
  {
   "cell_type": "code",
   "execution_count": 9,
   "metadata": {},
   "outputs": [
    {
     "name": "stdout",
     "output_type": "stream",
     "text": [
      "CPU times: user 690 µs, sys: 88 µs, total: 778 µs\n",
      "Wall time: 785 µs\n"
     ]
    },
    {
     "data": {
      "text/plain": [
       "0.0"
      ]
     },
     "execution_count": 9,
     "metadata": {},
     "output_type": "execute_result"
    }
   ],
   "source": [
    "%%time\n",
    "model.slim_optimize()\n",
    "model.reactions.ATPM.flux"
   ]
  },
  {
   "cell_type": "code",
   "execution_count": 10,
   "metadata": {},
   "outputs": [
    {
     "data": {
      "text/plain": [
       "{'EX_4abz_e': 0.00999,\n",
       " 'EX_ade_e': 0.01014,\n",
       " 'EX_ala__L_e': 0.04,\n",
       " 'EX_arg__L_e': 0.02,\n",
       " 'EX_asp__L_e': 0.01,\n",
       " 'EX_co2_e': 1000.0,\n",
       " 'EX_cys__L_e': 0.02,\n",
       " 'EX_fe2_e': 1000.0,\n",
       " 'EX_fe3_e': 1000.0,\n",
       " 'EX_glc__D_e': 2.12,\n",
       " 'EX_glu__L_e': 0.05,\n",
       " 'EX_gly_e': 0.04,\n",
       " 'EX_gua_e': 0.00906,\n",
       " 'EX_h2o_e': 1000.0,\n",
       " 'EX_h_e': 1000.0,\n",
       " 'EX_his__L_e': 0.01,\n",
       " 'EX_ile__L_e': 0.05,\n",
       " 'EX_ins_e': 0.00255,\n",
       " 'EX_leu__L_e': 0.06,\n",
       " 'EX_lys__L_e': 0.04,\n",
       " 'EX_met__L_e': 0.01,\n",
       " 'EX_mn2_e': 1000.0,\n",
       " 'EX_nac_e': 0.00111,\n",
       " 'EX_nh4_e': 0.59,\n",
       " 'EX_orot_e': 0.00439,\n",
       " 'EX_phe__L_e': 0.02,\n",
       " 'EX_pi_e': 1000.0,\n",
       " 'EX_pnto__R_e': 0.00062,\n",
       " 'EX_ribflv_e': 0.00036,\n",
       " 'EX_ser__L_e': 0.11,\n",
       " 'EX_thm_e': 0.00041,\n",
       " 'EX_thr__L_e': 0.06,\n",
       " 'EX_thymd_e': 0.00283,\n",
       " 'EX_ura_e': 0.01222,\n",
       " 'EX_val__L_e': 0.05,\n",
       " 'EX_xan_e': 0.00901,\n",
       " 'EX_zn2_e': 1000.0}"
      ]
     },
     "execution_count": 10,
     "metadata": {},
     "output_type": "execute_result"
    }
   ],
   "source": [
    "model.medium"
   ]
  },
  {
   "cell_type": "code",
   "execution_count": 11,
   "metadata": {},
   "outputs": [],
   "source": [
    "solution = model.optimize()"
   ]
  },
  {
   "cell_type": "code",
   "execution_count": 12,
   "metadata": {},
   "outputs": [
    {
     "data": {
      "text/plain": [
       "ACALDt       0.000000\n",
       "ACMANApts    0.000000\n",
       "ACTNdiff     0.000000\n",
       "ACt2r       -0.919307\n",
       "ADEt2        0.004750\n",
       "               ...   \n",
       "MCMAT8       0.003012\n",
       "METDabc      0.000000\n",
       "PSERT        0.000000\n",
       "BGLA1        0.000000\n",
       "SUCpts       0.000000\n",
       "Name: fluxes, Length: 754, dtype: float64"
      ]
     },
     "execution_count": 12,
     "metadata": {},
     "output_type": "execute_result"
    }
   ],
   "source": [
    "solution.fluxes"
   ]
  },
  {
   "cell_type": "markdown",
   "metadata": {},
   "source": [
    "## medium with glucose"
   ]
  },
  {
   "cell_type": "code",
   "execution_count": 13,
   "metadata": {},
   "outputs": [
    {
     "name": "stdout",
     "output_type": "stream",
     "text": [
      "1.02\n"
     ]
    }
   ],
   "source": [
    "medium = model.medium\n",
    "with model:\n",
    "    medium['EX_glc__D_e'] = 2.12\n",
    "    model.medium = medium\n",
    "    solution = model.optimize()\n",
    "    print(solution.fluxes['EX_etoh_e'])"
   ]
  },
  {
   "cell_type": "markdown",
   "metadata": {},
   "source": [
    "with 2.12 mmol / gDW h glucose, the yiled of ethanol is 1.02 mmol / gDW"
   ]
  },
  {
   "cell_type": "code",
   "execution_count": 14,
   "metadata": {},
   "outputs": [
    {
     "name": "stdout",
     "output_type": "stream",
     "text": [
      "0.07461055952589815\n"
     ]
    }
   ],
   "source": [
    "medium = model.medium\n",
    "with model:\n",
    "    medium['EX_glc__D_e'] = 1\n",
    "    medium['EX_lcts_e'] = 1\n",
    "    model.medium = medium\n",
    "    solution = model.optimize()\n",
    "    print(solution.fluxes['BIOMASS_LLA'])"
   ]
  },
  {
   "cell_type": "markdown",
   "metadata": {},
   "source": [
    "medium = model.medium\n",
    "with model:\n",
    "    medium['EX_glc__D_e'] = 1\n",
    "    medium['EX_lcts_e'] = 1\n",
    "    model.medium = medium\n",
    "    solution = model.optimize()\n",
    "    print(solution.fluxes['BIOMASS_LLA'])"
   ]
  },
  {
   "cell_type": "markdown",
   "metadata": {},
   "source": [
    "## medium without glucose"
   ]
  },
  {
   "cell_type": "code",
   "execution_count": null,
   "metadata": {},
   "outputs": [],
   "source": [
    "medium = model.medium\n",
    "with model:\n",
    "    medium['EX_glc__D_e'] = 0\n",
    "    model.medium = medium\n",
    "    solution = model.optimize()\n",
    "    print(solution.fluxes['EX_etoh_e'])\n",
    "    \n",
    "medium = model.medium\n",
    "with model:\n",
    "    medium['EX_glc__D_e'] = 0\n",
    "    model.medium = medium\n",
    "    solution = model.optimize()\n",
    "    print(solution.fluxes['BIOMASS_LLA'])"
   ]
  },
  {
   "cell_type": "markdown",
   "metadata": {},
   "source": [
    "This result showed that L.lactics can not grow and produce ethanol without glucose"
   ]
  },
  {
   "cell_type": "markdown",
   "metadata": {},
   "source": [
    "## Minimal media"
   ]
  },
  {
   "cell_type": "code",
   "execution_count": null,
   "metadata": {},
   "outputs": [],
   "source": [
    "from cobra.medium import minimal_medium\n",
    "\n",
    "max_growth = model.slim_optimize()\n",
    "minimal_medium(model, max_growth)"
   ]
  },
  {
   "cell_type": "markdown",
   "metadata": {},
   "source": [
    "## medium with glucose and other carbon source"
   ]
  },
  {
   "cell_type": "code",
   "execution_count": null,
   "metadata": {},
   "outputs": [],
   "source": [
    "medium = model.medium\n",
    "with model:\n",
    "    medium['EX_glc__D_e'] = 1\n",
    "    medium['EX_lcts_e'] = 0.5\n",
    "    model.medium = medium\n",
    "    solution = model.optimize()\n",
    "    print(solution.fluxes['EX_etoh_e'])\n",
    "    medium = model.medium\n",
    "medium = model.medium\n",
    "with model:\n",
    "    medium['EX_glc__D_e'] = 1\n",
    "    medium['EX_lcts_e'] = 1\n",
    "    model.medium = medium\n",
    "    solution = model.optimize()\n",
    "    print(solution.fluxes['BIOMASS_LLA'])"
   ]
  },
  {
   "cell_type": "code",
   "execution_count": null,
   "metadata": {},
   "outputs": [],
   "source": [
    "medium = model.medium\n",
    "with model:\n",
    "    medium['EX_glc__D_e'] = 1\n",
    "    medium['EX_malt_e'] = 0.5\n",
    "    model.medium = medium\n",
    "    solution = model.optimize()\n",
    "    print(solution.fluxes['EX_etoh_e'])\n",
    "    medium = model.medium\n",
    "medium = model.medium\n",
    "with model:\n",
    "    medium['EX_glc__D_e'] = 1\n",
    "    medium['EX_malt_e'] = 1\n",
    "    model.medium = medium\n",
    "    solution = model.optimize()\n",
    "    print(solution.fluxes['BIOMASS_LLA'])"
   ]
  },
  {
   "cell_type": "code",
   "execution_count": null,
   "metadata": {},
   "outputs": [],
   "source": [
    "medium = model.medium\n",
    "with model:\n",
    "    medium['EX_glc__D_e'] = 1\n",
    "    medium['EX_fru_e'] = 0.5\n",
    "    model.medium = medium\n",
    "    solution = model.optimize()\n",
    "    print(solution.fluxes['EX_etoh_e'])\n",
    "    medium = model.medium\n",
    "medium = model.medium\n",
    "with model:\n",
    "    medium['EX_glc__D_e'] = 1\n",
    "    medium['EX_fru_e'] = 0.5\n",
    "    model.medium = medium\n",
    "    solution = model.optimize()\n",
    "    print(solution.fluxes['BIOMASS_LLA'])"
   ]
  },
  {
   "cell_type": "code",
   "execution_count": null,
   "metadata": {},
   "outputs": [],
   "source": [
    "medium = model.medium\n",
    "with model:\n",
    "    medium['EX_glc__D_e'] = 1\n",
    "    medium['EX_sucr_e'] = 0.5\n",
    "    model.medium = medium\n",
    "    solution = model.optimize()\n",
    "    print(solution.fluxes['EX_etoh_e'])\n",
    "    medium = model.medium\n",
    "medium = model.medium\n",
    "with model:\n",
    "    medium['EX_glc__D_e'] = 1\n",
    "    medium['EX_sucr_e'] = 0.5\n",
    "    model.medium = medium\n",
    "    solution = model.optimize()\n",
    "    print(solution.fluxes['BIOMASS_LLA'])"
   ]
  },
  {
   "cell_type": "code",
   "execution_count": null,
   "metadata": {},
   "outputs": [],
   "source": [
    "medium = model.medium\n",
    "with model:\n",
    "    medium['EX_glc__D_e'] = 1\n",
    "    medium['EX_gal_e'] = 0.5\n",
    "    model.medium = medium\n",
    "    solution = model.optimize()\n",
    "    print(solution.fluxes['EX_etoh_e'])\n",
    "    medium = model.medium\n",
    "medium = model.medium\n",
    "with model:\n",
    "    medium['EX_glc__D_e'] = 1\n",
    "    medium['EX_gal_e'] = 0.5\n",
    "    model.medium = medium\n",
    "    solution = model.optimize()\n",
    "    print(solution.fluxes['BIOMASS_LLA'])"
   ]
  },
  {
   "cell_type": "code",
   "execution_count": null,
   "metadata": {},
   "outputs": [],
   "source": [
    "medium = model.medium\n",
    "with model:\n",
    "    medium['EX_glc__D_e'] = 1\n",
    "    medium['EX_glyc_e'] = 0.5\n",
    "    model.medium = medium\n",
    "    solution = model.optimize()\n",
    "    print(solution.fluxes['EX_etoh_e'])\n",
    "    medium = model.medium\n",
    "medium = model.medium\n",
    "with model:\n",
    "    medium['EX_glc__D_e'] = 1\n",
    "    medium['EX_glyc_e'] = 0.5\n",
    "    model.medium = medium\n",
    "    solution = model.optimize()\n",
    "    print(solution.fluxes['BIOMASS_LLA'])"
   ]
  },
  {
   "cell_type": "markdown",
   "metadata": {},
   "source": [
    "## in anaerobic condition"
   ]
  },
  {
   "cell_type": "code",
   "execution_count": null,
   "metadata": {},
   "outputs": [],
   "source": [
    "medium = model.medium\n",
    "with model:\n",
    "    medium['EX_glc__D_e'] = 2.12\n",
    "    medium['EX_o2_e'] = 0\n",
    "    model.medium = medium\n",
    "    solution = model.optimize()\n",
    "    print(solution.fluxes['EX_etoh_e'])\n",
    "    medium = model.medium\n",
    "medium = model.medium\n",
    "with model:\n",
    "    medium['EX_glc__D_e'] = 2.12\n",
    "    medium['EX_o2_e'] = 0\n",
    "    model.medium = medium\n",
    "    solution = model.optimize()\n",
    "    print(solution.fluxes['BIOMASS_LLA'])"
   ]
  },
  {
   "cell_type": "markdown",
   "metadata": {},
   "source": [
    "## in aerobic condition"
   ]
  },
  {
   "cell_type": "code",
   "execution_count": null,
   "metadata": {},
   "outputs": [],
   "source": [
    "medium = model.medium\n",
    "with model:\n",
    "    medium['EX_glc__D_e'] = 2.12\n",
    "    medium['EX_o2_e'] = 5\n",
    "    model.medium = medium\n",
    "    solution = model.optimize()\n",
    "    print(solution.fluxes['EX_etoh_e'])\n",
    "    medium = model.medium\n",
    "medium = model.medium\n",
    "with model:\n",
    "    medium['EX_glc__D_e'] = 2.12\n",
    "    medium['EX_o2_e'] = 5\n",
    "    model.medium = medium\n",
    "    solution = model.optimize()\n",
    "    print(solution.fluxes['BIOMASS_LLA'])"
   ]
  },
  {
   "cell_type": "markdown",
   "metadata": {},
   "source": [
    "## Minimal media"
   ]
  },
  {
   "cell_type": "code",
   "execution_count": 1,
   "metadata": {},
   "outputs": [
    {
     "ename": "NameError",
     "evalue": "name 'model' is not defined",
     "output_type": "error",
     "traceback": [
      "\u001b[0;31m---------------------------------------------------------------------------\u001b[0m",
      "\u001b[0;31mNameError\u001b[0m                                 Traceback (most recent call last)",
      "\u001b[0;32m<ipython-input-1-e1a56f02071b>\u001b[0m in \u001b[0;36m<module>\u001b[0;34m\u001b[0m\n\u001b[1;32m      1\u001b[0m \u001b[0;32mfrom\u001b[0m \u001b[0mcobra\u001b[0m\u001b[0;34m.\u001b[0m\u001b[0mmedium\u001b[0m \u001b[0;32mimport\u001b[0m \u001b[0mminimal_medium\u001b[0m\u001b[0;34m\u001b[0m\u001b[0;34m\u001b[0m\u001b[0m\n\u001b[1;32m      2\u001b[0m \u001b[0;34m\u001b[0m\u001b[0m\n\u001b[0;32m----> 3\u001b[0;31m \u001b[0mmax_growth\u001b[0m \u001b[0;34m=\u001b[0m \u001b[0mmodel\u001b[0m\u001b[0;34m.\u001b[0m\u001b[0mslim_optimize\u001b[0m\u001b[0;34m(\u001b[0m\u001b[0;34m)\u001b[0m\u001b[0;34m\u001b[0m\u001b[0;34m\u001b[0m\u001b[0m\n\u001b[0m\u001b[1;32m      4\u001b[0m \u001b[0mminimal_medium\u001b[0m\u001b[0;34m(\u001b[0m\u001b[0mmodel\u001b[0m\u001b[0;34m,\u001b[0m \u001b[0mmax_growth\u001b[0m\u001b[0;34m)\u001b[0m\u001b[0;34m\u001b[0m\u001b[0;34m\u001b[0m\u001b[0m\n",
      "\u001b[0;31mNameError\u001b[0m: name 'model' is not defined"
     ]
    }
   ],
   "source": [
    "from cobra.medium import minimal_medium\n",
    "\n",
    "max_growth = model.slim_optimize()\n",
    "minimal_medium(model, max_growth)"
   ]
  },
  {
   "cell_type": "code",
   "execution_count": null,
   "metadata": {},
   "outputs": [],
   "source": [
    "max_growth"
   ]
  },
  {
   "cell_type": "code",
   "execution_count": null,
   "metadata": {},
   "outputs": [],
   "source": [
    "print \n",
    "1+1"
   ]
  },
  {
   "cell_type": "code",
   "execution_count": null,
   "metadata": {},
   "outputs": [],
   "source": []
  },
  {
   "cell_type": "code",
   "execution_count": null,
   "metadata": {},
   "outputs": [],
   "source": []
  },
  {
   "cell_type": "code",
   "execution_count": null,
   "metadata": {},
   "outputs": [],
   "source": []
  },
  {
   "cell_type": "code",
   "execution_count": null,
   "metadata": {},
   "outputs": [],
   "source": []
  },
  {
   "cell_type": "code",
   "execution_count": null,
   "metadata": {},
   "outputs": [],
   "source": []
  }
 ],
 "metadata": {
  "kernelspec": {
   "display_name": "Python 3",
   "language": "python",
   "name": "python3"
  },
  "language_info": {
   "codemirror_mode": {
    "name": "ipython",
    "version": 3
   },
   "file_extension": ".py",
   "mimetype": "text/x-python",
   "name": "python",
   "nbconvert_exporter": "python",
   "pygments_lexer": "ipython3",
   "version": "3.8.5"
  }
 },
 "nbformat": 4,
 "nbformat_minor": 4
}
