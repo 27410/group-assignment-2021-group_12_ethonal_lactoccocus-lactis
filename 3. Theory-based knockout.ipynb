{
 "cells": [
  {
   "cell_type": "markdown",
   "metadata": {},
   "source": [
    "# Knockout the gene related ethanol production (Theory-based)"
   ]
  },
  {
   "cell_type": "code",
   "execution_count": 24,
   "metadata": {},
   "outputs": [],
   "source": [
    "from cobra.io import read_sbml_model\n",
    "model = read_sbml_model('iNF517.xml')"
   ]
  },
  {
   "cell_type": "markdown",
   "metadata": {},
   "source": [
    "import the model of L.lactis MG1363"
   ]
  },
  {
   "cell_type": "markdown",
   "metadata": {},
   "source": [
    "### The influence of ethanol is related to 3 genes (LDH_L, PTAr, ACLS)\n",
    "#### reference:https://journals.asm.org/doi/10.1128/AEM.03623-12"
   ]
  },
  {
   "cell_type": "markdown",
   "metadata": {},
   "source": [
    "### Find related genes and enzyme"
   ]
  },
  {
   "cell_type": "code",
   "execution_count": 25,
   "metadata": {},
   "outputs": [
    {
     "data": {
      "text/plain": [
       "frozenset({<Gene LLMG_RS02010 at 0x7f882328d5b0>,\n",
       "           <Gene LLMG_RS05690 at 0x7f882328d6d0>,\n",
       "           <Gene LLMG_RS07210 at 0x7f882328dd00>})"
      ]
     },
     "execution_count": 25,
     "metadata": {},
     "output_type": "execute_result"
    }
   ],
   "source": [
    "model.reactions.LDH_L.genes"
   ]
  },
  {
   "cell_type": "code",
   "execution_count": 26,
   "metadata": {},
   "outputs": [
    {
     "data": {
      "text/html": [
       "\n",
       "        <table>\n",
       "            <tr>\n",
       "                <td><strong>Reaction identifier</strong></td><td>LDH_L</td>\n",
       "            </tr><tr>\n",
       "                <td><strong>Name</strong></td><td>L-lactate dehydrogenase</td>\n",
       "            </tr><tr>\n",
       "                <td><strong>Memory address</strong></td>\n",
       "                <td>0x07f8823056a30</td>\n",
       "            </tr><tr>\n",
       "                <td><strong>Stoichiometry</strong></td>\n",
       "                <td>\n",
       "                    <p style='text-align:right'>lac__L_c + nad_c <=> h_c + nadh_c + pyr_c</p>\n",
       "                    <p style='text-align:right'>L-Lactate + Nicotinamide adenine dinucleotide <=> H+ + Nicotinamide adenine dinucleotide - reduced + Pyruvate</p>\n",
       "                </td>\n",
       "            </tr><tr>\n",
       "                <td><strong>GPR</strong></td><td>LLMG_RS02010 or LLMG_RS07210 or LLMG_RS05690</td>\n",
       "            </tr><tr>\n",
       "                <td><strong>Lower bound</strong></td><td>-1000.0</td>\n",
       "            </tr><tr>\n",
       "                <td><strong>Upper bound</strong></td><td>1000.0</td>\n",
       "            </tr>\n",
       "        </table>\n",
       "        "
      ],
      "text/plain": [
       "<Reaction LDH_L at 0x7f8823056a30>"
      ]
     },
     "execution_count": 26,
     "metadata": {},
     "output_type": "execute_result"
    }
   ],
   "source": [
    "model.reactions.LDH_L"
   ]
  },
  {
   "cell_type": "code",
   "execution_count": 27,
   "metadata": {},
   "outputs": [
    {
     "data": {
      "text/plain": [
       "frozenset({<Gene LLMG_RS03945 at 0x7f8823295160>})"
      ]
     },
     "execution_count": 27,
     "metadata": {},
     "output_type": "execute_result"
    }
   ],
   "source": [
    "model.reactions.PTAr.genes"
   ]
  },
  {
   "cell_type": "code",
   "execution_count": 28,
   "metadata": {},
   "outputs": [
    {
     "data": {
      "text/html": [
       "\n",
       "        <table>\n",
       "            <tr>\n",
       "                <td><strong>Reaction identifier</strong></td><td>PTAr</td>\n",
       "            </tr><tr>\n",
       "                <td><strong>Name</strong></td><td>Phosphotransacetylase</td>\n",
       "            </tr><tr>\n",
       "                <td><strong>Memory address</strong></td>\n",
       "                <td>0x07f8822b81e20</td>\n",
       "            </tr><tr>\n",
       "                <td><strong>Stoichiometry</strong></td>\n",
       "                <td>\n",
       "                    <p style='text-align:right'>accoa_c + pi_c <=> actp_c + coa_c</p>\n",
       "                    <p style='text-align:right'>Acetyl-CoA + Phosphate <=> Acetyl phosphate + Coenzyme A</p>\n",
       "                </td>\n",
       "            </tr><tr>\n",
       "                <td><strong>GPR</strong></td><td>LLMG_RS03945</td>\n",
       "            </tr><tr>\n",
       "                <td><strong>Lower bound</strong></td><td>-1000.0</td>\n",
       "            </tr><tr>\n",
       "                <td><strong>Upper bound</strong></td><td>1000.0</td>\n",
       "            </tr>\n",
       "        </table>\n",
       "        "
      ],
      "text/plain": [
       "<Reaction PTAr at 0x7f8822b81e20>"
      ]
     },
     "execution_count": 28,
     "metadata": {},
     "output_type": "execute_result"
    }
   ],
   "source": [
    "model.reactions.PTAr"
   ]
  },
  {
   "cell_type": "code",
   "execution_count": 29,
   "metadata": {},
   "outputs": [
    {
     "data": {
      "text/plain": [
       "frozenset({<Gene LLMG_RS06470 at 0x7f88232a4130>,\n",
       "           <Gene LLMG_RS06480 at 0x7f88232a4d60>,\n",
       "           <Gene LLMG_RS06485 at 0x7f88232a44c0>,\n",
       "           <Gene LLMG_RS06630 at 0x7f88232a4190>})"
      ]
     },
     "execution_count": 29,
     "metadata": {},
     "output_type": "execute_result"
    }
   ],
   "source": [
    "model.reactions.ACLS.genes"
   ]
  },
  {
   "cell_type": "code",
   "execution_count": 30,
   "metadata": {},
   "outputs": [
    {
     "data": {
      "text/html": [
       "\n",
       "        <table>\n",
       "            <tr>\n",
       "                <td><strong>Reaction identifier</strong></td><td>ACLS</td>\n",
       "            </tr><tr>\n",
       "                <td><strong>Name</strong></td><td>Acetolactate synthase</td>\n",
       "            </tr><tr>\n",
       "                <td><strong>Memory address</strong></td>\n",
       "                <td>0x07f8823202370</td>\n",
       "            </tr><tr>\n",
       "                <td><strong>Stoichiometry</strong></td>\n",
       "                <td>\n",
       "                    <p style='text-align:right'>h_c + 2.0 pyr_c --> alac__S_c + co2_c</p>\n",
       "                    <p style='text-align:right'>H+ + 2.0 Pyruvate --> (S)-2-Acetolactate + CO2 CO2</p>\n",
       "                </td>\n",
       "            </tr><tr>\n",
       "                <td><strong>GPR</strong></td><td>( LLMG_RS06480 or LLMG_RS06485 or LLMG_RS06470 ) or LLMG_RS06630</td>\n",
       "            </tr><tr>\n",
       "                <td><strong>Lower bound</strong></td><td>0.0</td>\n",
       "            </tr><tr>\n",
       "                <td><strong>Upper bound</strong></td><td>1000.0</td>\n",
       "            </tr>\n",
       "        </table>\n",
       "        "
      ],
      "text/plain": [
       "<Reaction ACLS at 0x7f8823202370>"
      ]
     },
     "execution_count": 30,
     "metadata": {},
     "output_type": "execute_result"
    }
   ],
   "source": [
    "model.reactions.ACLS"
   ]
  },
  {
   "cell_type": "code",
   "execution_count": 8,
   "metadata": {},
   "outputs": [],
   "source": [
    "from cobra.flux_analysis.phenotype_phase_plane import production_envelope\n",
    "import pandas as pd\n",
    "import matplotlib\n",
    "import matplotlib.pyplot as plt "
   ]
  },
  {
   "cell_type": "code",
   "execution_count": 9,
   "metadata": {},
   "outputs": [
    {
     "name": "stdout",
     "output_type": "stream",
     "text": [
      "Normal growth conditions\n",
      "Maximal biomass:\n",
      "0.0426346054433733\n",
      "Maximal ethanol production rate:）\n",
      "1.02000000000000002\n",
      "\n",
      "Without L-lactate dehydrogenase\n",
      "Maximal biomass:\n",
      "0.0426346054433733\n",
      "Maximal ethanol production rate\n",
      "1.02000000000000002\n"
     ]
    },
    {
     "data": {
      "image/png": "[encoded data removed]",
      "text/plain": [
       "<Figure size 432x288 with 1 Axes>"
      ]
     },
     "metadata": {
      "needs_background": "light"
     },
     "output_type": "display_data"
    }
   ],
   "source": [
    "# LDH_L (1) knockout\n",
    "with model:    \n",
    "    print(\"Normal growth conditions\")\n",
    "    print(\"Maximal biomass:\")\n",
    "    print(model.slim_optimize())\n",
    "    model.objective = model.reactions.EX_etoh_e\n",
    "    print(\"Maximal ethanol production rate:）\")\n",
    "    print('%.17f'%model.slim_optimize())\n",
    "   \n",
    "with model:\n",
    "    model.genes.LLMG_RS02010.knock_out()\n",
    "    print(\"\\nWithout L-lactate dehydrogenase\")\n",
    "    print(\"Maximal biomass:\")\n",
    "    print(model.slim_optimize())\n",
    "    model.objective = model.reactions.EX_etoh_e\n",
    "    print(\"Maximal ethanol production rate\")\n",
    "    print('%.17f'%model.slim_optimize())\n",
    "    ppp_etoh_e = production_envelope(model,\n",
    "                    reactions=[model.reactions.EX_etoh_e],\n",
    "                    objective=model.reactions.BIOMASS_LLA)\n",
    "    pppp = ppp_etoh_e.plot(x='EX_etoh_e', y='flux_maximum')\n",
    "    fig = pppp.get_figure()\n",
    "    plt.title(label=\"LDHL(LLMG_RS02010) knockout\")\n",
    "    fig.savefig(\"Image/PTAr_knockout_ppp\")"
   ]
  },
  {
   "cell_type": "code",
   "execution_count": 10,
   "metadata": {},
   "outputs": [
    {
     "name": "stdout",
     "output_type": "stream",
     "text": [
      "Normal growth conditions\n",
      "Maximal biomass:\n",
      "0.042634605443373184\n",
      "Maximal ethanol production rate:）\n",
      "1.02000000000000002\n",
      "\n",
      "Without L-lactate dehydrogenase\n",
      "Maximal biomass:\n",
      "0.042634605443373184\n",
      "Maximal ethanol production rate\n",
      "1.02000000000000002\n"
     ]
    },
    {
     "data": {
      "image/png": "[encoded data removed]",
      "text/plain": [
       "<Figure size 432x288 with 1 Axes>"
      ]
     },
     "metadata": {
      "needs_background": "light"
     },
     "output_type": "display_data"
    }
   ],
   "source": [
    "# LDH_L (2) knockout\n",
    "with model:    \n",
    "    print(\"Normal growth conditions\")\n",
    "    print(\"Maximal biomass:\")\n",
    "    print(model.slim_optimize())\n",
    "    model.objective = model.reactions.EX_etoh_e\n",
    "    print(\"Maximal ethanol production rate:）\")\n",
    "    print('%.17f'%model.slim_optimize())\n",
    "   \n",
    "with model:\n",
    "    model.genes.LLMG_RS05690.knock_out()\n",
    "    print(\"\\nWithout L-lactate dehydrogenase\")\n",
    "    print(\"Maximal biomass:\")\n",
    "    print(model.slim_optimize())\n",
    "    model.objective = model.reactions.EX_etoh_e\n",
    "    print(\"Maximal ethanol production rate\")\n",
    "    print('%.17f'%model.slim_optimize())\n",
    "    ppp_etoh_e = production_envelope(model,\n",
    "                    reactions=[model.reactions.EX_etoh_e],\n",
    "                    objective=model.reactions.BIOMASS_LLA)\n",
    "    pppp = ppp_etoh_e.plot(x='EX_etoh_e', y='flux_maximum')\n",
    "    fig = pppp.get_figure()\n",
    "    plt.title(label=\"LDHL(LLMG_RS05690) knockout\")\n",
    "    fig.savefig(\"Image/PTAr_knockout_ppp\")"
   ]
  },
  {
   "cell_type": "code",
   "execution_count": 11,
   "metadata": {},
   "outputs": [
    {
     "name": "stdout",
     "output_type": "stream",
     "text": [
      "Normal growth conditions\n",
      "Maximal biomass:\n",
      "0.0426346054433733\n",
      "Maximal ethanol production rate:）\n",
      "1.02000000000000002\n",
      "\n",
      "Without L-lactate dehydrogenase\n",
      "Maximal biomass:\n",
      "0.042634605443373476\n",
      "Maximal ethanol production rate\n",
      "1.02000000000000002\n"
     ]
    },
    {
     "data": {
      "image/png": "[encoded data removed]",
      "text/plain": [
       "<Figure size 432x288 with 1 Axes>"
      ]
     },
     "metadata": {
      "needs_background": "light"
     },
     "output_type": "display_data"
    }
   ],
   "source": [
    "# LDH_L (3) knockout\n",
    "with model:    \n",
    "    print(\"Normal growth conditions\")\n",
    "    print(\"Maximal biomass:\")\n",
    "    print(model.slim_optimize())\n",
    "    model.objective = model.reactions.EX_etoh_e\n",
    "    print(\"Maximal ethanol production rate:）\")\n",
    "    print('%.17f'%model.slim_optimize())\n",
    "   \n",
    "with model:\n",
    "    model.genes.LLMG_RS06470.knock_out()\n",
    "    print(\"\\nWithout L-lactate dehydrogenase\")\n",
    "    print(\"Maximal biomass:\")\n",
    "    print(model.slim_optimize())\n",
    "    model.objective = model.reactions.EX_etoh_e\n",
    "    print(\"Maximal ethanol production rate\")\n",
    "    print('%.17f'%model.slim_optimize())\n",
    "    ppp_etoh_e = production_envelope(model,\n",
    "                    reactions=[model.reactions.EX_etoh_e],\n",
    "                    objective=model.reactions.BIOMASS_LLA)\n",
    "    pppp = ppp_etoh_e.plot(x='EX_etoh_e', y='flux_maximum')\n",
    "    fig = pppp.get_figure()\n",
    "    plt.title(label=\"LDHL(LLMG_RS06470) knockout\")\n",
    "    fig.savefig(\"Image/PTAr_knockout_ppp\")"
   ]
  },
  {
   "cell_type": "markdown",
   "metadata": {},
   "source": [
    "### Knock out the LDH_L showed no effect on the biomass and ethanol production "
   ]
  },
  {
   "cell_type": "code",
   "execution_count": 22,
   "metadata": {},
   "outputs": [
    {
     "name": "stdout",
     "output_type": "stream",
     "text": [
      "Normal growth conditions\n",
      "Maximal biomass:\n",
      "0.0426346054433733\n",
      "Maximal ethanol production rate:）\n",
      "1.02000000000000002\n",
      "\n",
      "Without Phosphotransacetylase\n",
      "Maximal biomass:\n",
      "0.04217877852108521\n",
      "Maximal ethanol production rate\n",
      "1.02000000000000002\n"
     ]
    },
    {
     "data": {
      "image/png": "[encoded data removed]",
      "text/plain": [
       "<Figure size 432x288 with 1 Axes>"
      ]
     },
     "metadata": {
      "needs_background": "light"
     },
     "output_type": "display_data"
    }
   ],
   "source": [
    "# PTAr knockout\n",
    "with model:    \n",
    "    print(\"Normal growth conditions\")\n",
    "    print(\"Maximal biomass:\")\n",
    "    print(model.slim_optimize())\n",
    "    model.objective = model.reactions.EX_etoh_e\n",
    "    print(\"Maximal ethanol production rate:）\")\n",
    "    print('%.17f'%model.slim_optimize())\n",
    "with model:\n",
    "    model.genes.LLMG_RS03945.knock_out()\n",
    "    print(\"\\nWithout Phosphotransacetylase\")\n",
    "    print(\"Maximal biomass:\")\n",
    "    print(model.slim_optimize())\n",
    "    model.objective = model.reactions.EX_etoh_e\n",
    "    print(\"Maximal ethanol production rate\")\n",
    "    print('%.17f'%model.slim_optimize())\n",
    "    ppp_etoh_e = production_envelope(model,\n",
    "                    reactions=[model.reactions.EX_etoh_e],\n",
    "                    objective=model.reactions.BIOMASS_LLA)\n",
    "    pppp = ppp_etoh_e.plot(x='EX_etoh_e', y='flux_maximum')\n",
    "    fig = pppp.get_figure()\n",
    "    plt.title(label=\"PTAr knockout\")\n",
    "    fig.savefig(\"Image/PTAr_knockout_ppp\")"
   ]
  },
  {
   "cell_type": "markdown",
   "metadata": {},
   "source": [
    "### Knock out the PTAr decreased the  the biomass and had no effect on ethanol production "
   ]
  },
  {
   "cell_type": "code",
   "execution_count": 13,
   "metadata": {},
   "outputs": [
    {
     "name": "stdout",
     "output_type": "stream",
     "text": [
      "Normal growth conditions\n",
      "Maximal biomass:\n",
      "0.04263460544337336\n",
      "Maximal ethanol production rate:）\n",
      "1.02000000000000002\n",
      "\n",
      "Without Acetolactate synthase\n",
      "Maximal biomass:\n",
      "0.042634605443373594\n",
      "Maximal ethanol production rate\n",
      "1.02000000000000002\n"
     ]
    },
    {
     "data": {
      "image/png": "[encoded data removed]",
      "text/plain": [
       "<Figure size 432x288 with 1 Axes>"
      ]
     },
     "metadata": {
      "needs_background": "light"
     },
     "output_type": "display_data"
    }
   ],
   "source": [
    "# ACLS (1) knockout\n",
    "with model:    \n",
    "    print(\"Normal growth conditions\")\n",
    "    print(\"Maximal biomass:\")\n",
    "    print(model.slim_optimize())\n",
    "    model.objective = model.reactions.EX_etoh_e\n",
    "    print(\"Maximal ethanol production rate:）\")\n",
    "    print('%.17f'%model.slim_optimize())\n",
    "with model:\n",
    "    model.genes.LLMG_RS06470.knock_out()\n",
    "    print(\"\\nWithout Acetolactate synthase\")\n",
    "    print(\"Maximal biomass:\")\n",
    "    print(model.slim_optimize())\n",
    "    model.objective = model.reactions.EX_etoh_e\n",
    "    print(\"Maximal ethanol production rate\")\n",
    "    print('%.17f'%model.slim_optimize())\n",
    "    ppp_etoh_e = production_envelope(model,\n",
    "                    reactions=[model.reactions.EX_etoh_e],\n",
    "                    objective=model.reactions.BIOMASS_LLA)\n",
    "    pppp = ppp_etoh_e.plot(x='EX_etoh_e', y='flux_maximum')\n",
    "    fig = pppp.get_figure()\n",
    "    plt.title(label=\"ACLS knockout\")\n",
    "    fig.savefig(\"Image/PTAr_knockout_ppp\")"
   ]
  },
  {
   "cell_type": "code",
   "execution_count": 14,
   "metadata": {},
   "outputs": [
    {
     "name": "stdout",
     "output_type": "stream",
     "text": [
      "Normal growth conditions\n",
      "Maximal biomass:\n",
      "0.04263460544337322\n",
      "Maximal ethanol production rate:）\n",
      "1.02000000000000002\n",
      "\n",
      "Without Acetolactate synthase\n",
      "Maximal biomass:\n",
      "0.04263460544337306\n",
      "Maximal ethanol production rate\n",
      "1.02000000000000002\n"
     ]
    },
    {
     "data": {
      "image/png": "[encoded data removed]",
      "text/plain": [
       "<Figure size 432x288 with 1 Axes>"
      ]
     },
     "metadata": {
      "needs_background": "light"
     },
     "output_type": "display_data"
    }
   ],
   "source": [
    "# ACLS (2) knockout\n",
    "with model:    \n",
    "    print(\"Normal growth conditions\")\n",
    "    print(\"Maximal biomass:\")\n",
    "    print(model.slim_optimize())\n",
    "    model.objective = model.reactions.EX_etoh_e\n",
    "    print(\"Maximal ethanol production rate:）\")\n",
    "    print('%.17f'%model.slim_optimize())\n",
    "with model:\n",
    "    model.genes.LLMG_RS06480.knock_out()\n",
    "    print(\"\\nWithout Acetolactate synthase\")\n",
    "    print(\"Maximal biomass:\")\n",
    "    print(model.slim_optimize())\n",
    "    model.objective = model.reactions.EX_etoh_e\n",
    "    print(\"Maximal ethanol production rate\")\n",
    "    print('%.17f'%model.slim_optimize())\n",
    "    ppp_etoh_e = production_envelope(model,\n",
    "                    reactions=[model.reactions.EX_etoh_e],\n",
    "                    objective=model.reactions.BIOMASS_LLA)\n",
    "    pppp = ppp_etoh_e.plot(x='EX_etoh_e', y='flux_maximum')\n",
    "    fig = pppp.get_figure()\n",
    "    plt.title(label=\"ACLS knockout\")\n",
    "    fig.savefig(\"Image/PTAr_knockout_ppp\")"
   ]
  },
  {
   "cell_type": "code",
   "execution_count": 15,
   "metadata": {},
   "outputs": [
    {
     "name": "stdout",
     "output_type": "stream",
     "text": [
      "Normal growth conditions\n",
      "Maximal biomass:\n",
      "0.04263460544337317\n",
      "Maximal ethanol production rate:）\n",
      "1.02000000000000002\n",
      "\n",
      "Without Acetolactate synthase\n",
      "Maximal biomass:\n",
      "0.0426346054433731\n",
      "Maximal ethanol production rate\n",
      "1.02000000000000002\n"
     ]
    },
    {
     "data": {
      "image/png": "[encoded data removed]",
      "text/plain": [
       "<Figure size 432x288 with 1 Axes>"
      ]
     },
     "metadata": {
      "needs_background": "light"
     },
     "output_type": "display_data"
    }
   ],
   "source": [
    "# ACLS (3) knockout\n",
    "with model:    \n",
    "    print(\"Normal growth conditions\")\n",
    "    print(\"Maximal biomass:\")\n",
    "    print(model.slim_optimize())\n",
    "    model.objective = model.reactions.EX_etoh_e\n",
    "    print(\"Maximal ethanol production rate:）\")\n",
    "    print('%.17f'%model.slim_optimize())\n",
    "with model:\n",
    "    model.genes.LLMG_RS06485.knock_out()\n",
    "    print(\"\\nWithout Acetolactate synthase\")\n",
    "    print(\"Maximal biomass:\")\n",
    "    print(model.slim_optimize())\n",
    "    model.objective = model.reactions.EX_etoh_e\n",
    "    print(\"Maximal ethanol production rate\")\n",
    "    print('%.17f'%model.slim_optimize())\n",
    "    ppp_etoh_e = production_envelope(model,\n",
    "                    reactions=[model.reactions.EX_etoh_e],\n",
    "                    objective=model.reactions.BIOMASS_LLA)\n",
    "    pppp = ppp_etoh_e.plot(x='EX_etoh_e', y='flux_maximum')\n",
    "    fig = pppp.get_figure()\n",
    "    plt.title(label=\"ACLS knockout\")\n",
    "    fig.savefig(\"Image/PTAr_knockout_ppp\")"
   ]
  },
  {
   "cell_type": "code",
   "execution_count": 17,
   "metadata": {},
   "outputs": [
    {
     "name": "stdout",
     "output_type": "stream",
     "text": [
      "Normal growth conditions\n",
      "Maximal biomass:\n",
      "0.042634605443373205\n",
      "Maximal ethanol production rate:）\n",
      "1.02000000000000002\n",
      "\n",
      "Without Acetolactate synthase\n",
      "Maximal biomass:\n",
      "0.04263460544337326\n",
      "Maximal ethanol production rate\n",
      "1.02000000000000002\n"
     ]
    },
    {
     "data": {
      "image/png": "[encoded data removed]",
      "text/plain": [
       "<Figure size 432x288 with 1 Axes>"
      ]
     },
     "metadata": {
      "needs_background": "light"
     },
     "output_type": "display_data"
    }
   ],
   "source": [
    "# ACLS (4) knockout\n",
    "with model:    \n",
    "    print(\"Normal growth conditions\")\n",
    "    print(\"Maximal biomass:\")\n",
    "    print(model.slim_optimize())\n",
    "    model.objective = model.reactions.EX_etoh_e\n",
    "    print(\"Maximal ethanol production rate:）\")\n",
    "    print('%.17f'%model.slim_optimize())\n",
    "with model:\n",
    "    model.genes.LLMG_RS06630.knock_out()\n",
    "    print(\"\\nWithout Acetolactate synthase\")\n",
    "    print(\"Maximal biomass:\")\n",
    "    print(model.slim_optimize())\n",
    "    model.objective = model.reactions.EX_etoh_e\n",
    "    print(\"Maximal ethanol production rate\")\n",
    "    print('%.17f'%model.slim_optimize())\n",
    "    ppp_etoh_e = production_envelope(model,\n",
    "                    reactions=[model.reactions.EX_etoh_e],\n",
    "                    objective=model.reactions.BIOMASS_LLA)\n",
    "    pppp = ppp_etoh_e.plot(x='EX_etoh_e', y='flux_maximum')\n",
    "    fig = pppp.get_figure()\n",
    "    plt.title(label=\"ACLS knockout\")\n",
    "    fig.savefig(\"Image/PTAr_knockout_ppp\")"
   ]
  },
  {
   "cell_type": "markdown",
   "metadata": {},
   "source": [
    "### Knock out the ACLS had no significant effect on biomass and ethanol production "
   ]
  },
  {
   "cell_type": "code",
   "execution_count": null,
   "metadata": {},
   "outputs": [],
   "source": []
  }
 ],
 "metadata": {
  "kernelspec": {
   "display_name": "Python 3",
   "language": "python",
   "name": "python3"
  },
  "language_info": {
   "codemirror_mode": {
    "name": "ipython",
    "version": 3
   },
   "file_extension": ".py",
   "mimetype": "text/x-python",
   "name": "python",
   "nbconvert_exporter": "python",
   "pygments_lexer": "ipython3",
   "version": "3.8.5"
  }
 },
 "nbformat": 4,
 "nbformat_minor": 4
}
