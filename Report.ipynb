{
 "cells": [
  {
   "cell_type": "markdown",
   "metadata": {},
   "source": [
    "# [Biosynthesis of ethanol in lactoccocus lactics</i>]"
   ]
  },
  {
   "cell_type": "markdown",
   "metadata": {},
   "source": [
    "## 1. Introduction"
   ]
  },
  {
   "cell_type": "markdown",
   "metadata": {},
   "source": [
    "### 1.1 Literature review of the compound (<500 words)"
   
       
    
    
   "cell_type": "markdown",
   "metadata": {},
   "source": [
    "### 1.2 Literature review of the cell factory (<500 words)"
   ]
  },
  {
   "cell_type": "markdown",
   "metadata": {},
   "source": [
    "## 2. Problem definition (<300 words)"
   ]
  },
  {
   "cell_type": "markdown",
   "metadata": {},
   "source": [
    "#### Applications and evaluation of market potential\n",
    "Ethanol, which is known as ethyl alcohol or fermentation alcohol. Ethanol be produced by microorganisms such as yeast through the fermentation of agricultural products such as sugarcane, corn, sorghum, and manioc, et.al. And sugarcane is the most used ethanol fermentation in worldwide. The main production of ethanol is in Brazil. In the United States, ethanol is made from corn(Wyman, 2004). \n",
    "\n",
    "One of the usages of ethanol is biofuel. This renewable energy is one of the most efficient ways to achieve sustainable development.  The petrol can be blended at a maximum of 10% ethanol, which can reduce the emission of CO2 and reduce the reliance on fossil oil(Restrepo-Flórez and Maravelias, 2021). Only in the United States of American, the annual production of ethanol has increased dramatically from 2 to 16 billion gallons in the last 20 years(U.S. Energy Information Administration, 2021). In 2020, ethanol as biofuel Market value is 58.44 USD billion and grow at a significant annual growth rate of 7.65%, which showed its great potential in the biofuel market. The reason for the increase in demand is that that people realized bioethanol is renewable and can be helpful to environmental protection.\n", 
    "\n",
    "Another application for ethanol is for ethanol beverages. When ethanol is soluted in water, there is a sweet flavor that is welcomed by people from all over the world. The beverage ethanol can date back to ancient times, with Sumerians and Babylonians making beer before 6000 bc(Restrepo-Flórez and Maravelias, 2021). Alcoholic beverages produced on an industrial scale can include beer, wine, and China rice wine, and distilled spirits such as brandy, whisky, rum, gin, cognac, vodka, tequila, pisco, and China distilled spirit(Herrick, 1898). The global alcoholic beverages market is expected to grow from $499.74 billion in 2020 to $546.15 billion in 2021 at a compound annual growth rate (CAGR) of 9.3%. The market is expected to reach $735.83 billion in 2025 at a CAGR of 8%. \n",
    "\n",
    "Therefore, the continual growth of demand in the ethanol market will give birth to more methods of using cell factories to produce bioethanol to meet the huge demand for biofuels and alcoholic beverages.\n",
    "​\n",
    "cell_type": "markdown",
   "metadata": {},
   "source": [
    "or"
   ]
  },
  {
   "cell_type": "markdown",
   "metadata": {},
   "source": [
    "## 3. *If Project category II:* Selection and assessment of existing GSM (<500 words)"
   ]
  },
  {
   "cell_type": "markdown",
   "metadata": {},
   "source": [
    "## 4. Computer-Aided Cell Factory Engineering (<1500 words if Category II project; <500 words for Category I project)"
   ]
  },
  {
   "cell_type": "markdown",
   "metadata": {},
   "source": [
    "## 5. Discussion (<500 words)"
   ]
  },
  {
   "cell_type": "markdown",
   "metadata": {},
   "source": [
    "## 6. Conclusion (<200 words)"
   ]
  },
  {
   "cell_type": "markdown",
   "metadata": {},
   "source": [
    "## References"
   ]
  },
  {
   "cell_type": "code",
   "execution_count": null,
   "metadata": {},
   "outputs": [],
   "source": []
  }
 ],
 "metadata": {
  "kernelspec": {
   "display_name": "python3.6",
   "language": "python",
   "name": "python3.6"
  },
  "language_info": {
   "codemirror_mode": {
    "name": "ipython",
    "version": 3
   },
   "file_extension": ".py",
   "mimetype": "text/x-python",
   "name": "python",
   "nbconvert_exporter": "python",
   "pygments_lexer": "ipython3",
   "version": "3.6.11"
  }
 },
 "nbformat": 4,
 "nbformat_minor": 4
}
