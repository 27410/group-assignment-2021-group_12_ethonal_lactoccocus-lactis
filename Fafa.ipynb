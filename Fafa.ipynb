{
 "cells": [
  {
   "cell_type": "markdown",
   "metadata": {},
   "source": [
    "# Biosynthesis of ethanol in <i>lactoccocus lactis</i>"
   ]
  },
  {
   "cell_type": "markdown",
   "metadata": {},
   "source": [
    "#  Table of Contents \n",
    "#### [1. Introduction](#Introduction) \n",
    "##### &emsp; [1.1 Literature review of the compound ](#Literature_review_of_the_compound)\n",
    "###### &emsp; 1.1.1 Applications and evaluation of market potential\n",
    "###### &emsp; 1.1.2 Biosynthetic pathway/genes"
   ]
  },
  {
   "cell_type": "markdown",
   "metadata": {},
   "source": [
    "##### &emsp; [1.2 Literature review of the cell factory ](#Literature_review_of_the_cell_factory)\n",
    "###### &emsp; 1.2.1 General advantages\n",
    "###### &emsp; 1.2.2 General disadvantages\n",
    "###### &emsp; 1.2.3 Suitability of the cell factory for the product\n",
    "\n",
    "#### [2. Problem Definition](#Problem_Definition)\n",
    "\n",
    "#### [3. Selection and Assessment of an Existing GSM](#Selection_and_Assessment_of_an_existing_GSM)\n",
    "\n",
    "#### [4. Computer-Aided Cell Factory Engineering](#4.Computer-Aided_Cell_Factory_Engineering)\n",
    "\n",
    "##### &emsp; [4.1. Mutant viability assessment](#Mutant_viability_assessment)\n",
    "##### &emsp; [4.2. Media analysis for the mutant](#Media_analysis_for_the_mutant)\n",
    "##### &emsp; [4.3. Enzymatic model assessment](#Enzymatic_model_analysis)\n",
    "\n",
    "#### [5. Discussion](#Discussion)\n",
    "\n",
    "#### [6. Conclusions](#Conclusions)\n",
    "\n",
    "#### [7. References](#References)\n",
    "  "
   ]
  },
  {
   "cell_type": "markdown",
   "metadata": {},
   "source": [
    "## 1. Introduction <a class=\"anchor\" id=\"Introduction\"></a>"
   ]
  },
  {
   "cell_type": "markdown",
   "metadata": {},
   "source": [
    "### 1.1 Literature review of the compound  <a class=\"anchor\" id=\"Literature_reviwe_of_the_compound\"></a>"
   ]
  },
  {
   "cell_type": "markdown",
   "metadata": {},
   "source": [
    "###### Applications and evaluation of market potential\n",
    "Ethanol, which is known as ethyl alcohol or fermentation alcohol. Ethanol be produced by microorganisms such as yeast through the fermentation of agricultural products such as sugarcane, corn, sorghum, and manioc, et.al. And sugarcane is the most used ethanol fermentation in worldwide. The main production of ethanol is in Brazil. In the United States, ethanol is made from corn(Wyman, 2004). \n",
    "\n",
    "One of the usages of ethanol is biofuel. This renewable energy is one of the most efficient ways to achieve sustainable development.  The petrol can be blended at a maximum of 10% ethanol, which can reduce the emission of carbon dioxide and reduce the reliance on fossil oil(Restrepo-Flórez and Maravelias, 2021). Only in the United States of American, the annual production of ethanol has increased dramatically from 2 to 16 billion gallons in the last 20 years(U.S. Energy Information Administration, 2021). In 2020, ethanol as biofuel Market value is 58.44 USD billion and grow at a significant annual growth rate of 7.65%, which showed its great potential in the biofuel market. The reason for the increase in demand is that that people realized bioethanol is renewable and can be helpful to environmental protection.  \n",
    "\n",
    "Another application for ethanol is for ethanol beverages. When ethanol is soluted in water, there is a sweet flavor that is welcomed by people from all over the world. The beverage ethanol can date back to ancient times, with Sumerians and Babylonians making beer before 6000 bc(Restrepo-Flórez and Maravelias, 2021). Alcoholic beverages produced on an industrial scale can include beer, wine, and China rice wine, and distilled spirits such as brandy, whisky, rum, gin, cognac, vodka, tequila, pisco, and China distilled spirit(Herrick, 1898). The global alcoholic beverages market is expected to grow from $499.74 billion in 2020 to $546.15 billion in 2021 at a compound annual growth rate (CAGR) of 9.3%. The market is expected to reach $735.83 billion in 2025 at a CAGR of 8%. \n",
    "\n",
    "Therefore, the continual growth of demand in the ethanol market will give birth to more methods of using cell factories to produce bioethanol to meet the huge demand for biofuels and alcoholic beverages. "
   ]
  },
  {
   "cell_type": "markdown",
   "metadata": {},
   "source": [
    "###### Biosynthetic pathway/genes\n",
    "In the obligate fermentative bacterium Zymomonas mobilis which is one of few prokaryotes can generate ethanol as the predominant fermentative product. Two enzymes, pyruvate decarboxylase (PDC) and alcohol dehydrogenase (ADHE) catalyze the major pathway for ethanol synthesis in Zymomonas mobilis. PDC catalyzes the no-oxidative decarboxylation of pyruvate, which produces acetaldehyde and CO2. ADH then converts acetaldehyde to ethanol(Deng and Coleman, 1999).\n",
    "\n",
    "The lactic acid bacteria used in this report has an innate high tolerance ethanol and are frequently found in bio-ethanol plants as contaminants. In Lactococcus lactis, pyruvate formed in glycolysis is converted to acetyl-CoA by pyruvate dehydrogenase complex (PDHC), and then bifunctional native alcohol dehydrogenase (ADHE) which can use either acetyl-CoA or acetaldehyde as substrate (Fig.1). This is different from ADHE in Zymomonas mobilis which only uses acetaldehyde as the substrate(Solem et al., 2013).\n",
    "​\n",
    "![The biosynthetic pathway of ethanol in Lactococcus lactis(Nordkvist et al., 2003)](Image/metabolic pathway.png  \"biosynthetic pathway of ethanol\") "
   ]
  },
  {
   "cell_type": "markdown",
   "metadata": {},
   "source": [
    "![Lactococcus lactis morphologies.png](attachment:Lactococcus lactis morphologies.png)"
   ]
  },
  {
   "cell_type": "markdown",
   "metadata": {},
   "source": [
    "<center> <i><b>Figure 1.</b> The biosynthetic pathway of ethanol in Lactococcus lactis  </i> <center>"
   ]
  }
 ],
 "metadata": {
  "kernelspec": {
   "display_name": "Python 2",
   "language": "python",
   "name": "python2"
  },
  "language_info": {
   "codemirror_mode": {
    "name": "ipython",
    "version": 2
   },
   "file_extension": ".py",
   "mimetype": "text/x-python",
   "name": "python",
   "nbconvert_exporter": "python",
   "pygments_lexer": "ipython2",
   "version": "2.7.15"
  }
 },
 "nbformat": 4,
 "nbformat_minor": 4
}
