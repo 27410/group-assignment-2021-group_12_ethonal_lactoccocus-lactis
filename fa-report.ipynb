
##  Table of Contents 
#### [1. Introduction](#Introduction) 
##### &emsp; [1.1 Literature review of xylitol ](#Literature_review_of_xylitol)
##### &emsp; [1.2 Literature review of the cell factory ](#Literature_review_of_the_cell_factory)
#### [2. Problem Definition](#Problem_Definition)
#### [3. Selection and Assessment of an Existing GSM](#Selection_and_Assessment_of_an_existing_GSM)
#### [4. Computer-Aided Cell Factory Engineering](#4.Computer-Aided_Cell_Factory_Engineering)
##### &emsp; [4.1. Mutant viability assessment](#Mutant_viability_assessment)
##### &emsp; [4.2. Media analysis for the mutant](#Media_analysis_for_the_mutant)
##### &emsp; [4.3. Enzymatic model assessment](#Enzymatic_model_analysis)
#### [5. Discussion](#Discussion)
#### [6. Conclusions](#Conclusions)
#### [7. References](#References)
