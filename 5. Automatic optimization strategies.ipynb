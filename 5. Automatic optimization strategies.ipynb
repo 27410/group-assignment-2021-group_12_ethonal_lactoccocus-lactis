{
 "cells": [
  {
   "cell_type": "markdown",
   "id": "23c3a5ac-def2-4a78-8973-031e96d76135",
   "metadata": {},
   "source": [
    "**Automatic optimization strategies**"
   ]
  },
  {
   "cell_type": "markdown",
   "id": "d1f736ff-3983-4211-98e9-6afc6d34f2f5",
   "metadata": {},
   "source": [
    "In this code document, we will be experimenting with algorithms that can identify optimization routes in the production of ethanol in *Lactobacillus lactics*."
   ]
  },
  {
   "cell_type": "code",
   "execution_count": 1,
   "id": "6d31236f-95a4-4710-8704-40a3c7934b4e",
   "metadata": {},
   "outputs": [],
   "source": [
    "from cobra.io import read_sbml_model\n",
    "from cobra import Reaction, Metabolite"
   ]
  },
  {
   "cell_type": "code",
   "execution_count": 2,
   "id": "8891c02b-353a-4a15-b22d-86dd0e5fcd17",
   "metadata": {},
   "outputs": [],
   "source": [
    "model = read_sbml_model('iNF517.xml')"
   ]
  },
  {
   "cell_type": "code",
   "execution_count": 3,
   "id": "b87acf21-abe4-47a1-8c81-b4a93d9e8a92",
   "metadata": {},
   "outputs": [
    {
     "data": {
      "text/html": [
       "\n",
       "        <table>\n",
       "            <tr>\n",
       "                <td><strong>Name</strong></td>\n",
       "                <td>iNF517</td>\n",
       "            </tr><tr>\n",
       "                <td><strong>Memory address</strong></td>\n",
       "                <td>0x01fa62c6acd0</td>\n",
       "            </tr><tr>\n",
       "                <td><strong>Number of metabolites</strong></td>\n",
       "                <td>650</td>\n",
       "            </tr><tr>\n",
       "                <td><strong>Number of reactions</strong></td>\n",
       "                <td>754</td>\n",
       "            </tr><tr>\n",
       "                <td><strong>Number of groups</strong></td>\n",
       "                <td>0</td>\n",
       "            </tr><tr>\n",
       "                <td><strong>Objective expression</strong></td>\n",
       "                <td>1.0*BIOMASS_LLA - 1.0*BIOMASS_LLA_reverse_0796e</td>\n",
       "            </tr><tr>\n",
       "                <td><strong>Compartments</strong></td>\n",
       "                <td>cytosol, extracellular space</td>\n",
       "            </tr>\n",
       "          </table>"
      ],
      "text/plain": [
       "<Model iNF517 at 0x1fa62c6acd0>"
      ]
     },
     "execution_count": 3,
     "metadata": {},
     "output_type": "execute_result"
    }
   ],
   "source": [
    "model"
   ]
  },
  {
   "cell_type": "code",
   "execution_count": 4,
   "id": "ef30d7cb-f85a-460f-9ea2-823ae2353e39",
   "metadata": {},
   "outputs": [
    {
     "data": {
      "text/html": [
       "\n",
       "        <table>\n",
       "            <tr>\n",
       "                <td><strong>Reaction identifier</strong></td><td>EX_glc__D_e</td>\n",
       "            </tr><tr>\n",
       "                <td><strong>Name</strong></td><td>D-Glucose exchange</td>\n",
       "            </tr><tr>\n",
       "                <td><strong>Memory address</strong></td>\n",
       "                <td>0x01fa66047d60</td>\n",
       "            </tr><tr>\n",
       "                <td><strong>Stoichiometry</strong></td>\n",
       "                <td>\n",
       "                    <p style='text-align:right'>glc__D_e <--</p>\n",
       "                    <p style='text-align:right'>D-Glucose <--</p>\n",
       "                </td>\n",
       "            </tr><tr>\n",
       "                <td><strong>GPR</strong></td><td></td>\n",
       "            </tr><tr>\n",
       "                <td><strong>Lower bound</strong></td><td>-2.12</td>\n",
       "            </tr><tr>\n",
       "                <td><strong>Upper bound</strong></td><td>-0.92</td>\n",
       "            </tr>\n",
       "        </table>\n",
       "        "
      ],
      "text/plain": [
       "<Reaction EX_glc__D_e at 0x1fa66047d60>"
      ]
     },
     "execution_count": 4,
     "metadata": {},
     "output_type": "execute_result"
    }
   ],
   "source": [
    "model.reactions.EX_glc__D_e"
   ]
  },
  {
   "cell_type": "code",
   "execution_count": 5,
   "id": "f7873362-838b-49c0-b779-642fc88fd876",
   "metadata": {},
   "outputs": [
    {
     "data": {
      "text/html": [
       "\n",
       "        <table>\n",
       "            <tr>\n",
       "                <td><strong>Reaction identifier</strong></td><td>EX_etoh_e</td>\n",
       "            </tr><tr>\n",
       "                <td><strong>Name</strong></td><td>Ethanol exchange</td>\n",
       "            </tr><tr>\n",
       "                <td><strong>Memory address</strong></td>\n",
       "                <td>0x01fa65f03bb0</td>\n",
       "            </tr><tr>\n",
       "                <td><strong>Stoichiometry</strong></td>\n",
       "                <td>\n",
       "                    <p style='text-align:right'>etoh_e --></p>\n",
       "                    <p style='text-align:right'>Ethanol --></p>\n",
       "                </td>\n",
       "            </tr><tr>\n",
       "                <td><strong>GPR</strong></td><td></td>\n",
       "            </tr><tr>\n",
       "                <td><strong>Lower bound</strong></td><td>0.44</td>\n",
       "            </tr><tr>\n",
       "                <td><strong>Upper bound</strong></td><td>1.02</td>\n",
       "            </tr>\n",
       "        </table>\n",
       "        "
      ],
      "text/plain": [
       "<Reaction EX_etoh_e at 0x1fa65f03bb0>"
      ]
     },
     "execution_count": 5,
     "metadata": {},
     "output_type": "execute_result"
    }
   ],
   "source": [
    "model.reactions.EX_etoh_e"
   ]
  },
  {
   "cell_type": "markdown",
   "id": "c940fee0-3f57-45a8-ab91-a128735d6a8f",
   "metadata": {},
   "source": [
    "**Ethanol yield calculations**"
   ]
  },
  {
   "cell_type": "code",
   "execution_count": 6,
   "id": "7e32f760-fc4e-4f05-91da-b3c9947fe2cc",
   "metadata": {},
   "outputs": [],
   "source": [
    "from cobra.flux_analysis import flux_variability_analysis"
   ]
  },
  {
   "cell_type": "code",
   "execution_count": 7,
   "id": "3ecb61d7-9d1a-42f8-bd93-ed30b41c44e8",
   "metadata": {},
   "outputs": [
    {
     "name": "stdout",
     "output_type": "stream",
     "text": [
      "the flux of etoh production:  1.02 [mmol gDW^-1 h^-1]\n",
      "The molar yield of 5etoh  0.8095238095238095 [mmol-etoh / mmol-glc]\n"
     ]
    }
   ],
   "source": [
    "medium = model.medium\n",
    "with model:\n",
    "    medium['EX_glc__D_e'] = 1.26\n",
    "    model.medium = medium\n",
    "    solution = model.optimize()\n",
    "    \n",
    "    # calculating max yield of etoh\n",
    "    substrate_flux = model.reactions.EX_glc__D_e.flux\n",
    "    model.objective = model.reactions.EX_etoh_e\n",
    "    max_etoh_production = model.optimize().objective_value\n",
    "    print(\"the flux of etoh production: \",max_etoh_production , \"[mmol gDW^-1 h^-1]\")\n",
    "    # calculating molar yield\n",
    "    molar_yield_etoh = max_etoh_production / (-1. * substrate_flux)\n",
    "    print(\"The molar yield of 5etoh \", molar_yield_etoh, \"[mmol-etoh / mmol-glc]\")"
   ]
  },
  {
   "cell_type": "markdown",
   "id": "6e2ef9b5-7a65-4b32-b7b1-a625777e4c50",
   "metadata": {},
   "source": [
    "**Automatic optimization using OptGene**"
   ]
  },
  {
   "cell_type": "markdown",
   "id": "567486cf-36a5-46c3-a700-52cb52e857b0",
   "metadata": {},
   "source": [
    "The OptGene algorithm can be used to find genes which can be knocked out or mutated to increase the production of our target compound. The algorithm uses an approach, which takes a very long time to run. To make the program a tiny bit faster, all the essential reactions can be found and excluded from analysis, as they should not be knocked out in any case. Knocking out essential genes would stop growth."
   ]
  },
  {
   "cell_type": "code",
   "execution_count": null,
   "id": "ba2571de-ec28-4cc1-bc43-41552c963f1f",
   "metadata": {},
   "outputs": [],
   "source": [
    "# In this block, we are finding a list of the essential reactions and the non-essential reactions. \n",
    "# By looping over all reactions in the model and seeing whether they can grow, we can sort them into the two different lists\n",
    "\n",
    "#%%time\n",
    "\n",
    "essential = []\n",
    "non_essential = []\n",
    "\n",
    "for reaction in model.reactions:\n",
    "    with model:\n",
    "        reaction.knock_out()\n",
    "        if model.slim_optimize(error_value=0.) == 0.0:\n",
    "            essential.append(reaction)\n",
    "        else:\n",
    "            non_essential.append(reaction)"
   ]
  },
  {
   "cell_type": "code",
   "execution_count": null,
   "id": "a99e6971-0dbc-4ba4-88d7-bbbe5db9353f",
   "metadata": {},
   "outputs": [],
   "source": [
    "# Following this, we can find the genes associated with all of the essential reactions\n",
    "\n",
    "#%%time\n",
    "ess = []\n",
    "for i in range (1,len(essential)):\n",
    "    for gene in list(essential[i].genes):\n",
    "        ess.append(gene)"
   ]
  },
  {
   "cell_type": "code",
   "execution_count": null,
   "id": "01be30b4-a742-40d7-80f0-9e2b845065e2",
   "metadata": {},
   "outputs": [],
   "source": [
    "from cameo.strain_design import OptGene\n",
    "optgene = OptGene(model,essential_genes=essential)\n",
    "result = optgene.run(target=model.reactions.EX_etoh_e,\n",
    "                     biomass=model.reactions.BIOMASS_LLA,\n",
    "                     substrate=model.reactions.EX_glc__D_e,\n",
    "                     max_evaluations=207,\n",
    "                     plot=False)"
   ]
  },
  {
   "cell_type": "code",
   "execution_count": null,
   "id": "b39a2abb-8ce7-4ceb-bf22-9048be7d15f1",
   "metadata": {},
   "outputs": [],
   "source": [
    "result"
   ]
  },
  {
   "cell_type": "markdown",
   "id": "9055495a-1fd8-41af-9a99-35884949d4f5",
   "metadata": {},
   "source": [
    "**Automatic optimization using OptKnock**"
   ]
  },
  {
   "cell_type": "markdown",
   "id": "09ac2943-8846-4efa-a7be-422955658673",
   "metadata": {},
   "source": [
    "OptKnock uses a bi-level mixed integer linear programming approach to identify reaction knockouts"
   ]
  },
  {
   "cell_type": "code",
   "execution_count": null,
   "id": "060b2ea5-44b9-4397-90d3-119c10b9657d",
   "metadata": {},
   "outputs": [],
   "source": [
    "from cameo.strain_design import OptKnock"
   ]
  },
  {
   "cell_type": "code",
   "execution_count": null,
   "id": "16b73c16-c612-4bae-81e4-9f2b2e07caad",
   "metadata": {},
   "outputs": [],
   "source": [
    "optknock = OptKnock(model, fraction_of_optimum=0.1)"
   ]
  },
  {
   "cell_type": "markdown",
   "id": "0e015449-3ace-4d72-b408-52c0a62107a8",
   "metadata": {},
   "source": [
    "Running multiple knockouts with OptKnock can take a few hours or days…"
   ]
  },
  {
   "cell_type": "code",
   "execution_count": null,
   "id": "8a284ab0-98fb-4b41-ae83-732918ee6b95",
   "metadata": {},
   "outputs": [],
   "source": [
    "result = optknock.run(max_knockouts=1, target=\"EX_etoh_e\", biomass=\"BIOMASS_LLA\")"
   ]
  },
  {
   "cell_type": "markdown",
   "id": "2d720566-cd22-4412-89ec-1f2abcdfa4bf",
   "metadata": {},
   "source": [
    "**Knock out the P5CR had no significant effect on biomass and ethanol production**"
   ]
  },
  {
   "cell_type": "code",
   "execution_count": null,
   "id": "e72d4051-7d2f-4e92-ba6c-80c760afcff7",
   "metadata": {},
   "outputs": [],
   "source": [
    "model.reactions.P5CR.genes"
   ]
  },
  {
   "cell_type": "code",
   "execution_count": null,
   "id": "0d02b23f-ba4f-4325-a2d4-403325007bae",
   "metadata": {},
   "outputs": [],
   "source": [
    "# P5CR knockout\n",
    "with model:    \n",
    "    print(\"Normal growth conditions\")\n",
    "    print(\"Maximal biomass:\")\n",
    "    print(model.slim_optimize())\n",
    "    model.objective = model.reactions.EX_etoh_e\n",
    "    print(\"Maximal ethanol production rate:）\")\n",
    "    print('%.17f'%model.slim_optimize())\n",
    "with model:\n",
    "    model.genes.LLMG_RS10365.knock_out()\n",
    "    print(\"\\nWithout Pyrroline-5-carboxylate reductase\")\n",
    "    print(\"Maximal biomass:\")\n",
    "    print(model.slim_optimize())\n",
    "    substrate_flux = model.reactions.EX_glc__D_e.flux\n",
    "    model.objective = model.reactions.EX_etoh_e\n",
    "    max_etoh_e_production = model.optimize().objective_value\n",
    "    molar_yield_etoh_e = max_etoh_e_production / (-1. * substrate_flux)\n",
    "    print(\"The molar yield of etoh_e \", molar_yield_etoh_e, \"[mmol-etoh_e / mmol-glc]\")\n",
    "    print(\"Maximal ethanol production rate\")\n",
    "    print('%.17f'%model.slim_optimize())\n",
    "    ppp_etoh_e = production_envelope(model,\n",
    "                    reactions=[model.reactions.EX_etoh_e],\n",
    "                    objective=model.reactions.BIOMASS_LLA)\n",
    "    pppp = ppp_etoh_e.plot(x='EX_etoh_e', y='flux_maximum')\n",
    "    fig = pppp.get_figure()\n",
    "    plt.title(label=\"P5CR knockout\")\n",
    "    fig.savefig(\"Image/P5CR_knockout_ppp\")"
   ]
  },
  {
   "cell_type": "markdown",
   "id": "7c2ff076-ff89-4ef3-b0d9-8cb16e355d2b",
   "metadata": {},
   "source": [
    "**Knock out (HIBD, SERD_L, IGPDH_1, FTHFCL_1) had no significant effect on biomass and ethanol production**"
   ]
  },
  {
   "cell_type": "code",
   "execution_count": null,
   "id": "7303d529-eca9-4c9b-af56-91dfd29e25c8",
   "metadata": {},
   "outputs": [],
   "source": [
    "model.reactions.HIBD.genes"
   ]
  },
  {
   "cell_type": "code",
   "execution_count": null,
   "id": "628d4b6c-57a7-43c7-8c00-03ff31db295e",
   "metadata": {},
   "outputs": [],
   "source": [
    "model.reactions.SERD_L.genes"
   ]
  },
  {
   "cell_type": "code",
   "execution_count": null,
   "id": "f8ac836b-f43f-4be3-b708-8db793eef6be",
   "metadata": {},
   "outputs": [],
   "source": [
    "model.reactions.IGPDH_1.genes"
   ]
  },
  {
   "cell_type": "code",
   "execution_count": null,
   "id": "e4c40894-4381-46ce-b0fa-aec452474d31",
   "metadata": {},
   "outputs": [],
   "source": [
    "model.reactions.FTHFCL_1.genes"
   ]
  },
  {
   "cell_type": "code",
   "execution_count": null,
   "id": "4cedf306-fb82-4157-b2d0-1163cf540d4c",
   "metadata": {},
   "outputs": [],
   "source": [
    "# all knockout\n",
    "with model:    \n",
    "    print(\"Normal growth conditions\")\n",
    "    print(\"Maximal biomass:\")\n",
    "    print(model.slim_optimize())\n",
    "    model.objective = model.reactions.EX_etoh_e\n",
    "    print(\"Maximal ethanol production rate:）\")\n",
    "    print('%.17f'%model.slim_optimize())\n",
    "with model:\n",
    "    model.genes.LLMG_RS00960.knock_out()\n",
    "    model.genes.LLMG_RS06560.knock_out()\n",
    "    model.genes.LLMG_RS08705.knock_out()\n",
    "    model.genes.LLMG_RS08710.knock_out()\n",
    "    model.genes.LLMG_RS12530.knock_out()\n",
    "    print(\"\\nWithout all knockout\")\n",
    "    print(\"Maximal biomass:\")\n",
    "    print(model.slim_optimize())\n",
    "    substrate_flux = model.reactions.EX_glc__D_e.flux\n",
    "    model.objective = model.reactions.EX_etoh_e\n",
    "    max_etoh_e_production = model.optimize().objective_value\n",
    "    molar_yield_etoh_e = max_etoh_e_production / (-1. * substrate_flux)\n",
    "    print(\"The molar yield of etoh_e \", molar_yield_etoh_e, \"[mmol-etoh_e / mmol-glc]\")\n",
    "    print(\"Maximal ethanol production rate\")\n",
    "    print('%.17f'%model.slim_optimize())\n",
    "    ppp_etoh_e = production_envelope(model,\n",
    "                    reactions=[model.reactions.EX_etoh_e],\n",
    "                    objective=model.reactions.BIOMASS_LLA)\n",
    "    pppp = ppp_etoh_e.plot(x='EX_etoh_e', y='flux_maximum')\n",
    "    fig = pppp.get_figure()\n",
    "    plt.title(label=\"all knockout\")\n",
    "    fig.savefig(\"Image/all knockout_ppp\")"
   ]
  }
 ],
 "metadata": {
  "kernelspec": {
   "display_name": "Python 3",
   "language": "python",
   "name": "python3"
  },
  "language_info": {
   "codemirror_mode": {
    "name": "ipython",
    "version": 3
   },
   "file_extension": ".py",
   "mimetype": "text/x-python",
   "name": "python",
   "nbconvert_exporter": "python",
   "pygments_lexer": "ipython3",
   "version": "3.8.8"
  }
 },
 "nbformat": 4,
 "nbformat_minor": 5
}
